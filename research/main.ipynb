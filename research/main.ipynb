{
 "cells": [
  {
   "cell_type": "markdown",
   "source": [
    "Import modules from web app"
   ],
   "metadata": {}
  },
  {
   "cell_type": "code",
   "execution_count": 1,
   "source": [
    "import sys, os.path\n",
    "\n",
    "modules_dir = os.path.join(os.path.abspath(''),\"..\") + \"/main/modules\"\n",
    "sys.path.append(modules_dir)\n",
    "\n",
    "import scraping"
   ],
   "outputs": [],
   "metadata": {}
  },
  {
   "cell_type": "markdown",
   "source": [
    "Retrieve HTML text from website"
   ],
   "metadata": {}
  },
  {
   "cell_type": "code",
   "execution_count": 2,
   "source": [
    "response = scraping.request(\"bbc.co.uk\")\n",
    "print(response.status_code)\n",
    "print(response.text[0:100])"
   ],
   "outputs": [
    {
     "output_type": "stream",
     "name": "stdout",
     "text": [
      "200\n",
      "<!DOCTYPE html><html lang=\"en-GB\" class=\"no-js\"><head><meta charSet=\"utf-8\" /><meta name=\"viewport\" \n"
     ]
    }
   ],
   "metadata": {}
  },
  {
   "cell_type": "markdown",
   "source": [
    "Process the HTML text into tokens"
   ],
   "metadata": {}
  },
  {
   "cell_type": "code",
   "execution_count": 3,
   "source": [
    "tokens = scraping.process(response.text)\n",
    "print(len(tokens))\n",
    "print(tokens[0:10])"
   ],
   "outputs": [
    {
     "output_type": "stream",
     "name": "stdout",
     "text": [
      "79\n",
      "['Germany fears thousands got saline, not vaccine', 'Olympian given new medal after first got bitten', 'Olympian Adam Peaty joins the all-star Strictly 2021 line-up', 'Steal yourself a movie night tonight... iPlayer', 'You might have missed', \"'Oh, my god!' Victoria Derbyshire's on-air news nightmare\", 'Looking back on 40 years of Indiana Jones. Audio', 'Best of BBC iPlayer', \"Why the Tourette's queen of Twitch hasn't been banned\", 'Decades-old lesson found on hidden blackboard']\n"
     ]
    }
   ],
   "metadata": {}
  },
  {
   "cell_type": "markdown",
   "source": [
    "Score each of the tokens using...\n",
    "- [AFINN](https://github.com/fnielsen/afinn) = wordlist-based approach\n",
    "- [VADER] "
   ],
   "metadata": {}
  },
  {
   "cell_type": "code",
   "execution_count": 4,
   "source": [
    "from afinn import Afinn\n",
    "\n",
    "afinn = Afinn()\n",
    "scored_tokens = []\n",
    "\n",
    "for token in tokens:\n",
    "  # afinn.score calculates by adding up individual scores for words\n",
    "  # so you need to standardise by dividing the length of the phrase\n",
    "  afinn_score = afinn.score(token) / len(token.split())\n",
    "  scored_tokens.append({\"token\": token, \"afinn_score\": afinn_score})\n",
    "\n",
    "print(len(scored_tokens), scored_tokens[0:10])"
   ],
   "outputs": [
    {
     "output_type": "stream",
     "name": "stdout",
     "text": [
      "79 [{'token': 'Germany fears thousands got saline, not vaccine', 'afinn_score': 0.0}, {'token': 'Olympian given new medal after first got bitten', 'afinn_score': 0.375}, {'token': 'Olympian Adam Peaty joins the all-star Strictly 2021 line-up', 'afinn_score': 0.0}, {'token': 'Steal yourself a movie night tonight... iPlayer', 'afinn_score': -0.2857142857142857}, {'token': 'You might have missed', 'afinn_score': -0.5}, {'token': \"'Oh, my god!' Victoria Derbyshire's on-air news nightmare\", 'afinn_score': 0.125}, {'token': 'Looking back on 40 years of Indiana Jones. Audio', 'afinn_score': 0.0}, {'token': 'Best of BBC iPlayer', 'afinn_score': 0.75}, {'token': \"Why the Tourette's queen of Twitch hasn't been banned\", 'afinn_score': -0.2222222222222222}, {'token': 'Decades-old lesson found on hidden blackboard', 'afinn_score': 0.0}]\n"
     ]
    }
   ],
   "metadata": {}
  },
  {
   "cell_type": "markdown",
   "source": [
    "Analyze data with `pandas`"
   ],
   "metadata": {}
  },
  {
   "cell_type": "code",
   "execution_count": 5,
   "source": [
    "import pandas as pd\n",
    "\n",
    "token_df = pd.DataFrame(scored_tokens)\n",
    "\n",
    "print(token_df)"
   ],
   "outputs": [
    {
     "output_type": "stream",
     "name": "stdout",
     "text": [
      "                                                token  afinn_score\n",
      "0     Germany fears thousands got saline, not vaccine     0.000000\n",
      "1     Olympian given new medal after first got bitten     0.375000\n",
      "2   Olympian Adam Peaty joins the all-star Strictl...     0.000000\n",
      "3     Steal yourself a movie night tonight... iPlayer    -0.285714\n",
      "4                               You might have missed    -0.500000\n",
      "..                                                ...          ...\n",
      "74     One mystery, four suspects, many lies. iPlayer    -0.142857\n",
      "75       England face India on day two of second Test     0.000000\n",
      "76  Swimmer taking on 'coldest swim on Earth' to h...     0.181818\n",
      "77  See the latest results, including Lotto, EuroM...     0.000000\n",
      "78  Britney Spears' father to step down as conserv...     0.000000\n",
      "\n",
      "[79 rows x 2 columns]\n"
     ]
    }
   ],
   "metadata": {}
  }
 ],
 "metadata": {
  "orig_nbformat": 4,
  "language_info": {
   "name": "python",
   "version": "3.9.6",
   "mimetype": "text/x-python",
   "codemirror_mode": {
    "name": "ipython",
    "version": 3
   },
   "pygments_lexer": "ipython3",
   "nbconvert_exporter": "python",
   "file_extension": ".py"
  },
  "kernelspec": {
   "name": "python3",
   "display_name": "Python 3.9.6 64-bit ('bright-news': conda)"
  },
  "interpreter": {
   "hash": "34e04979d73b2ceef69adabefb5e026b4557b5b2bae59a0151ac0f9ce1842be6"
  }
 },
 "nbformat": 4,
 "nbformat_minor": 2
}