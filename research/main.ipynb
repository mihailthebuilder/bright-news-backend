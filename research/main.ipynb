{
 "cells": [
  {
   "cell_type": "markdown",
   "source": [
    "Import modules from web app"
   ],
   "metadata": {}
  },
  {
   "cell_type": "code",
   "execution_count": 1,
   "source": [
    "import sys, os.path\n",
    "\n",
    "modules_dir = os.path.join(os.path.abspath(''),\"..\") + \"/main/modules\"\n",
    "sys.path.append(modules_dir)\n",
    "\n",
    "import scraping"
   ],
   "outputs": [],
   "metadata": {}
  },
  {
   "cell_type": "markdown",
   "source": [
    "Retrieve HTML text from website"
   ],
   "metadata": {}
  },
  {
   "cell_type": "code",
   "execution_count": 2,
   "source": [
    "response = scraping.request(\"bbc.co.uk\")\n",
    "print(response.status_code)\n",
    "print(response.text[0:100])"
   ],
   "outputs": [
    {
     "output_type": "stream",
     "name": "stdout",
     "text": [
      "200\n",
      "<!DOCTYPE html><html lang=\"en-GB\" class=\"no-js\"><head><meta charSet=\"utf-8\" /><meta name=\"viewport\" \n"
     ]
    }
   ],
   "metadata": {}
  },
  {
   "cell_type": "markdown",
   "source": [
    "Process the HTML text into tokens"
   ],
   "metadata": {}
  },
  {
   "cell_type": "code",
   "execution_count": 3,
   "source": [
    "tokens = scraping.process(response.text)\n",
    "print(len(tokens))\n",
    "print(tokens[0:10])"
   ],
   "outputs": [
    {
     "output_type": "stream",
     "name": "stdout",
     "text": [
      "80\n",
      "['NZ borders to remain closed for rest of the year', \"Has Banksy been on a seaside 'spraycation'?\", 'Brighten up your day with these delicious muffin recipes', 'The ghosts are back for more supernatural shenanigans. IPlayer-Video', 'Greg Wise and Tilly Ramsay revealed as new Strictly dancers', 'The perfect blend of spooky and silly...', 'All the advice you need for taking the next big step', 'Cryptocurrency heist hacker returns $260m in funds', 'Actress Christina Applegate reveals MS diagnosis', 'Radio 1 announces first-ever drag day']\n"
     ]
    }
   ],
   "metadata": {}
  },
  {
   "cell_type": "markdown",
   "source": [
    "Score each of the tokens using AFINN"
   ],
   "metadata": {}
  },
  {
   "cell_type": "code",
   "execution_count": 14,
   "source": [
    "from afinn import Afinn\n",
    "\n",
    "afinn = Afinn()\n",
    "scored_tokens = []\n",
    "\n",
    "for token in tokens:\n",
    "  afinn_score = afinn.score(token)\n",
    "  scored_tokens.append({\"token\": token, \"afinn_score\": afinn_score})\n",
    "\n",
    "print(len(scored_tokens), scored_tokens[0:10])"
   ],
   "outputs": [
    {
     "output_type": "stream",
     "name": "stdout",
     "text": [
      "80 [{'token': 'NZ borders to remain closed for rest of the year', 'afinn_score': 0.0}, {'token': \"Has Banksy been on a seaside 'spraycation'?\", 'afinn_score': 0.0}, {'token': 'Brighten up your day with these delicious muffin recipes', 'afinn_score': 3.0}, {'token': 'The ghosts are back for more supernatural shenanigans. IPlayer-Video', 'afinn_score': 0.0}, {'token': 'Greg Wise and Tilly Ramsay revealed as new Strictly dancers', 'afinn_score': 0.0}, {'token': 'The perfect blend of spooky and silly...', 'afinn_score': 2.0}, {'token': 'All the advice you need for taking the next big step', 'afinn_score': 1.0}, {'token': 'Cryptocurrency heist hacker returns $260m in funds', 'afinn_score': 0.0}, {'token': 'Actress Christina Applegate reveals MS diagnosis', 'afinn_score': 0.0}, {'token': 'Radio 1 announces first-ever drag day', 'afinn_score': -1.0}]\n"
     ]
    }
   ],
   "metadata": {}
  },
  {
   "cell_type": "markdown",
   "source": [
    "Analyse how many non-0 scored tokens there are"
   ],
   "metadata": {}
  },
  {
   "cell_type": "code",
   "execution_count": 16,
   "source": [
    "filtered_tokens = [token for token in scored_tokens if token[\"afinn_score\"] != 0]\n",
    "print(len(filtered_tokens), filtered_tokens[0:10])"
   ],
   "outputs": [
    {
     "output_type": "stream",
     "name": "stdout",
     "text": [
      "40 [{'token': 'Brighten up your day with these delicious muffin recipes', 'afinn_score': 3.0}, {'token': 'The perfect blend of spooky and silly...', 'afinn_score': 2.0}, {'token': 'All the advice you need for taking the next big step', 'afinn_score': 1.0}, {'token': 'Radio 1 announces first-ever drag day', 'afinn_score': -1.0}, {'token': 'Cracking egg recipes that are great for any time of the day', 'afinn_score': 3.0}, {'token': 'Jeopardy! quiz show selects two permanent hosts', 'afinn_score': -2.0}, {'token': 'Take these five steps to sexual confidence. Audio', 'afinn_score': 2.0}, {'token': 'Love Island row sparks record 25,000 complaints', 'afinn_score': 1.0}, {'token': 'Post Office to fight six appeals in IT scandal', 'afinn_score': -4.0}, {'token': 'Students get GCSE results after year of Covid disruption', 'afinn_score': -2.0}]\n"
     ]
    }
   ],
   "metadata": {}
  }
 ],
 "metadata": {
  "orig_nbformat": 4,
  "language_info": {
   "name": "python",
   "version": "3.9.6",
   "mimetype": "text/x-python",
   "codemirror_mode": {
    "name": "ipython",
    "version": 3
   },
   "pygments_lexer": "ipython3",
   "nbconvert_exporter": "python",
   "file_extension": ".py"
  },
  "kernelspec": {
   "name": "python3",
   "display_name": "Python 3.9.6 64-bit ('bright-news': conda)"
  },
  "interpreter": {
   "hash": "34e04979d73b2ceef69adabefb5e026b4557b5b2bae59a0151ac0f9ce1842be6"
  }
 },
 "nbformat": 4,
 "nbformat_minor": 2
}