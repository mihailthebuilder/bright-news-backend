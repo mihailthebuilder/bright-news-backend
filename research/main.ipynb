{
 "cells": [
  {
   "cell_type": "markdown",
   "metadata": {},
   "source": [
    "Submit request to website"
   ]
  },
  {
   "cell_type": "code",
   "execution_count": 1,
   "metadata": {},
   "outputs": [],
   "source": [
    "import requests\n",
    "\n",
    "def request(url):\n",
    "    \"\"\"sends a request to the URL\"\"\"\n",
    "\n",
    "    # add https if not in there at start\n",
    "    if url[0:8] != \"https://\" and url[0:7] != \"http://\":\n",
    "        url = \"https://\" + url\n",
    "\n",
    "    my_session = requests.session()\n",
    "    for_cookies = requests.get(url, timeout=5).cookies\n",
    "    headers = {\n",
    "        \"User-Agent\": \"Mozilla/5.0 (Windows NT 6.1; Win64; x64; rv:57.0) Gecko/20100101 Firefox/57.0\"\n",
    "    }\n",
    "\n",
    "    return my_session.get(url, headers=headers, cookies=for_cookies, timeout=5)\n",
    "\n",
    "response = request(\"bbc.co.uk\")"
   ]
  },
  {
   "cell_type": "code",
   "execution_count": 2,
   "metadata": {},
   "outputs": [
    {
     "name": "stdout",
     "output_type": "stream",
     "text": [
      "200\n",
      "<!DOCTYPE html><html lang=\"en-GB\" class=\"no-js\"><head><meta charSet=\"utf-8\" /><meta name=\"viewport\" \n"
     ]
    }
   ],
   "source": [
    "print(response.status_code)\n",
    "print(response.text[0:100])"
   ]
  },
  {
   "cell_type": "markdown",
   "metadata": {},
   "source": [
    "Read the HTML content as a string to analyse. In order for people to replicate my results, I've already downloaded the HTML text."
   ]
  },
  {
   "cell_type": "code",
   "execution_count": 3,
   "metadata": {},
   "outputs": [
    {
     "data": {
      "text/plain": [
       "'<!DOCTYPE html><html lang=\"en-GB\" class=\"no-js\"><head><meta charSet=\"utf-8\" /><meta name=\"viewport\" content=\"width=device-width, initial-scale=1\" /><title data-rh=\"true\">BBC - Home</title><meta data-r'"
      ]
     },
     "execution_count": 3,
     "metadata": {},
     "output_type": "execute_result"
    }
   ],
   "source": [
    "#response_text = response.text\n",
    "\n",
    "## this is how I saved the response in a text file\n",
    "\n",
    "#with open(\"response.txt\", \"w\") as text_file:\n",
    "#    text_file.write(response_text)\n",
    "\n",
    "with open(\"response.txt\",\"r\") as text_file:\n",
    "    response_text = text_file.read()\n",
    "    \n",
    "response_text[0:200]"
   ]
  },
  {
   "cell_type": "markdown",
   "metadata": {},
   "source": [
    "get the individual text pieces inside the web page as separate list elements using Beautiful Soup"
   ]
  },
  {
   "cell_type": "code",
   "execution_count": 4,
   "metadata": {},
   "outputs": [],
   "source": [
    "from bs4 import BeautifulSoup as bs\n",
    "\n",
    "soup_li = bs(response_text, \"lxml\").body.get_text(separator=\"||\").split(\"||\")"
   ]
  },
  {
   "cell_type": "code",
   "execution_count": 5,
   "metadata": {},
   "outputs": [
    {
     "name": "stdout",
     "output_type": "stream",
     "text": [
      "280\n",
      "['BBC Homepage', 'Skip to content', 'Accessibility Help', 'Your account', 'Notifications', 'Home', 'News', 'Sport', 'Weather', 'iPlayer', 'Sounds', 'CBBC', 'CBeebies', 'Menu', 'More', 'Search', 'Home', 'News', 'Sport', 'Weather']\n"
     ]
    }
   ],
   "source": [
    "print(len(soup_li))\n",
    "print(soup_li[0:20])"
   ]
  },
  {
   "cell_type": "markdown",
   "metadata": {},
   "source": [
    "There's a ton of one-word tokens; let's filter them out"
   ]
  },
  {
   "cell_type": "code",
   "execution_count": 6,
   "metadata": {},
   "outputs": [],
   "source": [
    "long_tokens = [x for x in soup_li if len(x.split()) >= 5]"
   ]
  },
  {
   "cell_type": "code",
   "execution_count": 7,
   "metadata": {},
   "outputs": [
    {
     "name": "stdout",
     "output_type": "stream",
     "text": [
      "73\n"
     ]
    },
    {
     "data": {
      "text/plain": [
       "['Plymouth mass shooter was licensed gun holder',\n",
       " 'PM calls emergency meeting to discuss Afghanistan',\n",
       " 'England bat after Anderson takes five wickets in second Test',\n",
       " \"Teachers: 'It's been hell grading exams'\",\n",
       " \"'One signing could decide the title race, but it's not Harry Kane'\",\n",
       " 'Lure of the island with no electricity or wi-fi',\n",
       " 'UK records a further 100 Covid deaths',\n",
       " 'Germany fears thousands got saline, not vaccine',\n",
       " \"'We had to tip milk down the drain - now we sell 200-400 bottles a day'\",\n",
       " \"Gunman's victims include three-year-old girl\",\n",
       " 'Panic as thousands flee Taliban onslaught',\n",
       " 'Murder-accused boy, 14, in court after stabbing',\n",
       " 'England lose two wickets in two balls - clips, radio & text',\n",
       " \"Women's Hundred: Trent Rockets struggle in must-win game against Birmingham Phoenix\",\n",
       " \"'One signing could decide the title race - but it's not Harry Kane'\",\n",
       " \"Holiday 'stress' over paper vaccine certificate\",\n",
       " 'Woman arrested in murder probe after boy, 2, dies',\n",
       " 'Medics warn of more cancelled operations',\n",
       " '3 things we love today',\n",
       " 'Three of the strangest organs in the animal kingdom',\n",
       " 'Composer, DJ and bandleader: The women redefining the sound of UK jazz',\n",
       " 'Victoria Derbyshire overcomes on-air shoes malfunction',\n",
       " \"'I've had to develop a way of getting results instantly'\",\n",
       " 'From Amy Winehouse to James Arthur, Annabel Williams has had a stellar career as a singing coach',\n",
       " 'Amazon moves Lord of the Rings production to UK',\n",
       " \"Britney Spears' father to step down as conservator\",\n",
       " \"Grimmy on leaving Radio 1 and the 'instant bad mood' song\",\n",
       " 'Olympian Adam Peaty joins the all-star Strictly 2021 line-up',\n",
       " \"Casualty's 10 most memorable episodes\",\n",
       " 'Marvel launches new Disney+ show featuring Chadwick Boseman',\n",
       " \"First batch of student's washing machines shipped\",\n",
       " \"'I'm just not ready to buy an electric car'\",\n",
       " 'Olympian given new medal after first got bitten',\n",
       " \"'When you're on a BMX 20 feet in the air there's no room for error' Video\",\n",
       " \"'When you're on a BMX 20 feet in the air there's no room for error'\",\n",
       " \"Swimmer taking on 'coldest swim on Earth' to highlight climate change\",\n",
       " \"Why the Tourette's queen of Twitch hasn't been banned\",\n",
       " \"'We never knew how dangerous Loch Lomond was'\",\n",
       " 'Postcard from Chile arrives in Dorset after 30 years',\n",
       " 'Decades-old lesson found on hidden blackboard',\n",
       " 'Hampshire & Isle of Wight',\n",
       " 'Flexible recipes for when you need to use up leftovers',\n",
       " 'Totally affordable 30-minute meals for two',\n",
       " 'Create incredible pasta dishes with only five ingredients',\n",
       " 'How often do you bathe your children? Celebrities debate',\n",
       " \"'We drove from Ireland to Australia in a camper van'\",\n",
       " 'Get your kids active with these football club challenges',\n",
       " \"GB's Ujah suspended after positive test\",\n",
       " 'Ex-Olympian coached for years after abuse claim',\n",
       " 'What are the fan tokens given to Messi by PSG?',\n",
       " 'The new trick cyber-criminals use to cash out',\n",
       " \"Life in the Taliban's new territory. Video\",\n",
       " \"Life in the Taliban's new territory\",\n",
       " \"Russia millionaire kills man he 'mistook for bear'\",\n",
       " 'Superstar violinist Nicola Benedetti delights the Proms. IPlayer-Video',\n",
       " 'Superstar violinist Nicola Benedetti delights the Proms',\n",
       " 'Looking back on 40 years of Indiana Jones. Audio',\n",
       " 'Looking back on 40 years of Indiana Jones',\n",
       " 'The ghosts are back for more supernatural shenanigans. IPlayer-Video',\n",
       " 'The ghosts are back for more supernatural shenanigans',\n",
       " 'See the latest results, including Lotto, EuroMillions, Set for Life and Thunderball',\n",
       " 'The BBC around the UK',\n",
       " 'Final call for all ballroom dancers! iPlayer',\n",
       " 'Final call for all ballroom dancers!',\n",
       " 'One mystery, four suspects, many lies. iPlayer',\n",
       " 'One mystery, four suspects, many lies',\n",
       " 'A chilling tale of an ill-fated mission. iPlayer',\n",
       " 'A chilling tale of an ill-fated mission',\n",
       " 'Steal yourself a movie night tonight... iPlayer',\n",
       " 'Steal yourself a movie night tonight...',\n",
       " 'Why you can trust the BBC',\n",
       " 'Â© 2021 BBC. The BBC is not responsible for the content of external sites. ',\n",
       " 'Read about our approach to external linking.']"
      ]
     },
     "execution_count": 7,
     "metadata": {},
     "output_type": "execute_result"
    }
   ],
   "source": [
    "print(len(long_tokens))\n",
    "long_tokens"
   ]
  },
  {
   "cell_type": "markdown",
   "metadata": {},
   "source": [
    "Notice how there's a few phrases that repeat. It seems the shorter ones are more suitable, but it would be hard to make this work algorithmically. So we'll take the longer ones instead even though they contain irrelevant words."
   ]
  },
  {
   "cell_type": "code",
   "execution_count": 14,
   "metadata": {},
   "outputs": [
    {
     "data": {
      "text/plain": [
       "['Plymouth mass shooter was licensed gun holder',\n",
       " 'PM calls emergency meeting to discuss Afghanistan',\n",
       " 'England bat after Anderson takes five wickets in second Test',\n",
       " \"Teachers: 'It's been hell grading exams'\",\n",
       " \"'One signing could decide the title race, but it's not Harry Kane'\",\n",
       " 'Lure of the island with no electricity or wi-fi',\n",
       " 'UK records a further 100 Covid deaths',\n",
       " 'Germany fears thousands got saline, not vaccine',\n",
       " \"'We had to tip milk down the drain - now we sell 200-400 bottles a day'\",\n",
       " \"Gunman's victims include three-year-old girl\",\n",
       " 'Panic as thousands flee Taliban onslaught',\n",
       " 'Murder-accused boy, 14, in court after stabbing',\n",
       " 'England lose two wickets in two balls - clips, radio & text',\n",
       " \"Women's Hundred: Trent Rockets struggle in must-win game against Birmingham Phoenix\",\n",
       " \"'One signing could decide the title race - but it's not Harry Kane'\",\n",
       " \"Holiday 'stress' over paper vaccine certificate\",\n",
       " 'Woman arrested in murder probe after boy, 2, dies',\n",
       " 'Medics warn of more cancelled operations',\n",
       " '3 things we love today',\n",
       " 'Three of the strangest organs in the animal kingdom',\n",
       " 'Composer, DJ and bandleader: The women redefining the sound of UK jazz',\n",
       " 'Victoria Derbyshire overcomes on-air shoes malfunction',\n",
       " \"'I've had to develop a way of getting results instantly'\",\n",
       " 'From Amy Winehouse to James Arthur, Annabel Williams has had a stellar career as a singing coach',\n",
       " 'Amazon moves Lord of the Rings production to UK',\n",
       " \"Britney Spears' father to step down as conservator\",\n",
       " \"Grimmy on leaving Radio 1 and the 'instant bad mood' song\",\n",
       " 'Olympian Adam Peaty joins the all-star Strictly 2021 line-up',\n",
       " \"Casualty's 10 most memorable episodes\",\n",
       " 'Marvel launches new Disney+ show featuring Chadwick Boseman',\n",
       " \"First batch of student's washing machines shipped\",\n",
       " \"'I'm just not ready to buy an electric car'\",\n",
       " 'Olympian given new medal after first got bitten',\n",
       " \"'When you're on a BMX 20 feet in the air there's no room for error' Video\",\n",
       " \"Swimmer taking on 'coldest swim on Earth' to highlight climate change\",\n",
       " \"Why the Tourette's queen of Twitch hasn't been banned\",\n",
       " \"'We never knew how dangerous Loch Lomond was'\",\n",
       " 'Postcard from Chile arrives in Dorset after 30 years',\n",
       " 'Decades-old lesson found on hidden blackboard',\n",
       " 'Hampshire & Isle of Wight',\n",
       " 'Flexible recipes for when you need to use up leftovers',\n",
       " 'Totally affordable 30-minute meals for two',\n",
       " 'Create incredible pasta dishes with only five ingredients',\n",
       " 'How often do you bathe your children? Celebrities debate',\n",
       " \"'We drove from Ireland to Australia in a camper van'\",\n",
       " 'Get your kids active with these football club challenges',\n",
       " \"GB's Ujah suspended after positive test\",\n",
       " 'Ex-Olympian coached for years after abuse claim',\n",
       " 'What are the fan tokens given to Messi by PSG?',\n",
       " 'The new trick cyber-criminals use to cash out',\n",
       " \"Life in the Taliban's new territory. Video\",\n",
       " \"Russia millionaire kills man he 'mistook for bear'\",\n",
       " 'Superstar violinist Nicola Benedetti delights the Proms. IPlayer-Video',\n",
       " 'Looking back on 40 years of Indiana Jones. Audio',\n",
       " 'The ghosts are back for more supernatural shenanigans. IPlayer-Video',\n",
       " 'See the latest results, including Lotto, EuroMillions, Set for Life and Thunderball',\n",
       " 'The BBC around the UK',\n",
       " 'Final call for all ballroom dancers! iPlayer',\n",
       " 'One mystery, four suspects, many lies. iPlayer',\n",
       " 'A chilling tale of an ill-fated mission. iPlayer',\n",
       " 'Steal yourself a movie night tonight... iPlayer',\n",
       " 'Why you can trust the BBC',\n",
       " 'Â© 2021 BBC. The BBC is not responsible for the content of external sites. ',\n",
       " 'Read about our approach to external linking.']"
      ]
     },
     "execution_count": 14,
     "metadata": {},
     "output_type": "execute_result"
    }
   ],
   "source": [
    "def is_copy(text_input, text_li):\n",
    "    counter = 0\n",
    "    for text in text_li:\n",
    "        if text_input in text:\n",
    "            counter += 1\n",
    "    return counter > 1\n",
    "\n",
    "unique_tokens = [x for x in long_tokens if not is_copy(x, long_tokens)]\n",
    "unique_tokens"
   ]
  },
  {
   "cell_type": "markdown",
   "metadata": {},
   "source": [
    "Score each of the tokens using...\n",
    "- [AFINN](https://github.com/fnielsen/afinn) = wordlist-based approach\n",
    "- [VADER](https://github.com/cjhutto/vaderSentiment) = lexicon+rule-based approach"
   ]
  },
  {
   "cell_type": "code",
   "execution_count": 17,
   "metadata": {},
   "outputs": [],
   "source": [
    "from afinn import Afinn\n",
    "from vaderSentiment.vaderSentiment import SentimentIntensityAnalyzer\n",
    "\n",
    "tokens = unique_tokens\n",
    "\n",
    "afinn = Afinn()\n",
    "vader = SentimentIntensityAnalyzer()\n",
    "scored_tokens = []\n",
    "\n",
    "for token in tokens:\n",
    "  # afinn.score calculates by adding up individual scores for words\n",
    "  # so you need to standardise by dividing the length of the phrase\n",
    "  afinn_score = afinn.score(token) / len(token.split())\n",
    "\n",
    "  vader_score = vader.polarity_scores(token)[\"compound\"]\n",
    "  \n",
    "  scored_tokens.append({\"token\": token, \"afinn_score\": afinn_score, \"vader_score\": vader_score})"
   ]
  },
  {
   "cell_type": "markdown",
   "metadata": {},
   "source": [
    "Check the output..."
   ]
  },
  {
   "cell_type": "code",
   "execution_count": 18,
   "metadata": {},
   "outputs": [
    {
     "name": "stdout",
     "output_type": "stream",
     "text": [
      "64 [{'token': 'Plymouth mass shooter was licensed gun holder', 'afinn_score': -0.14285714285714285, 'vader_score': -0.34}, {'token': 'PM calls emergency meeting to discuss Afghanistan', 'afinn_score': -0.2857142857142857, 'vader_score': -0.3818}, {'token': 'England bat after Anderson takes five wickets in second Test', 'afinn_score': 0.0, 'vader_score': 0.0}, {'token': \"Teachers: 'It's been hell grading exams'\", 'afinn_score': -0.6666666666666666, 'vader_score': -0.6808}, {'token': \"'One signing could decide the title race, but it's not Harry Kane'\", 'afinn_score': 0.0, 'vader_score': 0.0}, {'token': 'Lure of the island with no electricity or wi-fi', 'afinn_score': -0.1111111111111111, 'vader_score': -0.296}, {'token': 'UK records a further 100 Covid deaths', 'afinn_score': -0.2857142857142857, 'vader_score': 0.0}, {'token': 'Germany fears thousands got saline, not vaccine', 'afinn_score': 0.0, 'vader_score': -0.4215}, {'token': \"'We had to tip milk down the drain - now we sell 200-400 bottles a day'\", 'afinn_score': 0.0, 'vader_score': 0.0}, {'token': \"Gunman's victims include three-year-old girl\", 'afinn_score': -0.6, 'vader_score': -0.3182}]\n"
     ]
    }
   ],
   "source": [
    "print(len(scored_tokens), scored_tokens[0:10])"
   ]
  },
  {
   "cell_type": "markdown",
   "metadata": {},
   "source": [
    "Let's move the data to pandas and spot-check some of the results"
   ]
  },
  {
   "cell_type": "code",
   "execution_count": 19,
   "metadata": {},
   "outputs": [
    {
     "data": {
      "text/html": [
       "<div>\n",
       "<style scoped>\n",
       "    .dataframe tbody tr th:only-of-type {\n",
       "        vertical-align: middle;\n",
       "    }\n",
       "\n",
       "    .dataframe tbody tr th {\n",
       "        vertical-align: top;\n",
       "    }\n",
       "\n",
       "    .dataframe thead th {\n",
       "        text-align: right;\n",
       "    }\n",
       "</style>\n",
       "<table border=\"1\" class=\"dataframe\">\n",
       "  <thead>\n",
       "    <tr style=\"text-align: right;\">\n",
       "      <th></th>\n",
       "      <th>token</th>\n",
       "      <th>afinn_score</th>\n",
       "      <th>vader_score</th>\n",
       "    </tr>\n",
       "  </thead>\n",
       "  <tbody>\n",
       "    <tr>\n",
       "      <th>33</th>\n",
       "      <td>'When you're on a BMX 20 feet in the air there's no room for error' Video</td>\n",
       "      <td>-0.187500</td>\n",
       "      <td>-0.5994</td>\n",
       "    </tr>\n",
       "    <tr>\n",
       "      <th>34</th>\n",
       "      <td>Swimmer taking on 'coldest swim on Earth' to highlight climate change</td>\n",
       "      <td>0.181818</td>\n",
       "      <td>0.3400</td>\n",
       "    </tr>\n",
       "    <tr>\n",
       "      <th>35</th>\n",
       "      <td>Why the Tourette's queen of Twitch hasn't been banned</td>\n",
       "      <td>-0.222222</td>\n",
       "      <td>0.3570</td>\n",
       "    </tr>\n",
       "    <tr>\n",
       "      <th>36</th>\n",
       "      <td>'We never knew how dangerous Loch Lomond was'</td>\n",
       "      <td>-0.250000</td>\n",
       "      <td>0.3724</td>\n",
       "    </tr>\n",
       "    <tr>\n",
       "      <th>37</th>\n",
       "      <td>Postcard from Chile arrives in Dorset after 30 years</td>\n",
       "      <td>0.000000</td>\n",
       "      <td>0.0000</td>\n",
       "    </tr>\n",
       "    <tr>\n",
       "      <th>38</th>\n",
       "      <td>Decades-old lesson found on hidden blackboard</td>\n",
       "      <td>0.000000</td>\n",
       "      <td>0.0000</td>\n",
       "    </tr>\n",
       "    <tr>\n",
       "      <th>39</th>\n",
       "      <td>Hampshire &amp; Isle of Wight</td>\n",
       "      <td>0.000000</td>\n",
       "      <td>0.0000</td>\n",
       "    </tr>\n",
       "    <tr>\n",
       "      <th>40</th>\n",
       "      <td>Flexible recipes for when you need to use up leftovers</td>\n",
       "      <td>0.000000</td>\n",
       "      <td>0.2263</td>\n",
       "    </tr>\n",
       "    <tr>\n",
       "      <th>41</th>\n",
       "      <td>Totally affordable 30-minute meals for two</td>\n",
       "      <td>0.333333</td>\n",
       "      <td>0.0000</td>\n",
       "    </tr>\n",
       "    <tr>\n",
       "      <th>42</th>\n",
       "      <td>Create incredible pasta dishes with only five ingredients</td>\n",
       "      <td>0.000000</td>\n",
       "      <td>0.2732</td>\n",
       "    </tr>\n",
       "  </tbody>\n",
       "</table>\n",
       "</div>"
      ],
      "text/plain": [
       "                                                                        token  \\\n",
       "33  'When you're on a BMX 20 feet in the air there's no room for error' Video   \n",
       "34      Swimmer taking on 'coldest swim on Earth' to highlight climate change   \n",
       "35                      Why the Tourette's queen of Twitch hasn't been banned   \n",
       "36                              'We never knew how dangerous Loch Lomond was'   \n",
       "37                       Postcard from Chile arrives in Dorset after 30 years   \n",
       "38                              Decades-old lesson found on hidden blackboard   \n",
       "39                                                  Hampshire & Isle of Wight   \n",
       "40                     Flexible recipes for when you need to use up leftovers   \n",
       "41                                 Totally affordable 30-minute meals for two   \n",
       "42                  Create incredible pasta dishes with only five ingredients   \n",
       "\n",
       "    afinn_score  vader_score  \n",
       "33    -0.187500      -0.5994  \n",
       "34     0.181818       0.3400  \n",
       "35    -0.222222       0.3570  \n",
       "36    -0.250000       0.3724  \n",
       "37     0.000000       0.0000  \n",
       "38     0.000000       0.0000  \n",
       "39     0.000000       0.0000  \n",
       "40     0.000000       0.2263  \n",
       "41     0.333333       0.0000  \n",
       "42     0.000000       0.2732  "
      ]
     },
     "execution_count": 19,
     "metadata": {},
     "output_type": "execute_result"
    }
   ],
   "source": [
    "import pandas as pd\n",
    "\n",
    "pd.set_option(\"max_row\",None)\n",
    "pd.set_option('display.max_colwidth', None)\n",
    "\n",
    "token_df = pd.DataFrame(scored_tokens)\n",
    "\n",
    "token_df[33:43]"
   ]
  },
  {
   "cell_type": "markdown",
   "metadata": {},
   "source": [
    "The models seem all over the place at a first glance. But once you examine the sentences, things make more sense. Just check out the first one - how can you understand its positivity without knowing the context? Is the intent to amaze the reader, or is it to scare them off?\n",
    "\n",
    "Observations so far:\n",
    "- both models get it right when they're both 0\n",
    "- when one model is 0 and the other is non-0, the non-0 one is correct\n",
    "- there's not enough data on negative sentiment to make a decision\n",
    "\n",
    "Let's try another slice"
   ]
  },
  {
   "cell_type": "code",
   "execution_count": 20,
   "metadata": {},
   "outputs": [
    {
     "data": {
      "text/html": [
       "<div>\n",
       "<style scoped>\n",
       "    .dataframe tbody tr th:only-of-type {\n",
       "        vertical-align: middle;\n",
       "    }\n",
       "\n",
       "    .dataframe tbody tr th {\n",
       "        vertical-align: top;\n",
       "    }\n",
       "\n",
       "    .dataframe thead th {\n",
       "        text-align: right;\n",
       "    }\n",
       "</style>\n",
       "<table border=\"1\" class=\"dataframe\">\n",
       "  <thead>\n",
       "    <tr style=\"text-align: right;\">\n",
       "      <th></th>\n",
       "      <th>token</th>\n",
       "      <th>afinn_score</th>\n",
       "      <th>vader_score</th>\n",
       "    </tr>\n",
       "  </thead>\n",
       "  <tbody>\n",
       "    <tr>\n",
       "      <th>17</th>\n",
       "      <td>Medics warn of more cancelled operations</td>\n",
       "      <td>-0.500000</td>\n",
       "      <td>-0.4005</td>\n",
       "    </tr>\n",
       "    <tr>\n",
       "      <th>18</th>\n",
       "      <td>3 things we love today</td>\n",
       "      <td>0.600000</td>\n",
       "      <td>0.6369</td>\n",
       "    </tr>\n",
       "    <tr>\n",
       "      <th>19</th>\n",
       "      <td>Three of the strangest organs in the animal kingdom</td>\n",
       "      <td>0.000000</td>\n",
       "      <td>0.0000</td>\n",
       "    </tr>\n",
       "    <tr>\n",
       "      <th>20</th>\n",
       "      <td>Composer, DJ and bandleader: The women redefining the sound of UK jazz</td>\n",
       "      <td>0.000000</td>\n",
       "      <td>0.0000</td>\n",
       "    </tr>\n",
       "    <tr>\n",
       "      <th>21</th>\n",
       "      <td>Victoria Derbyshire overcomes on-air shoes malfunction</td>\n",
       "      <td>0.000000</td>\n",
       "      <td>0.0000</td>\n",
       "    </tr>\n",
       "    <tr>\n",
       "      <th>22</th>\n",
       "      <td>'I've had to develop a way of getting results instantly'</td>\n",
       "      <td>0.000000</td>\n",
       "      <td>0.0000</td>\n",
       "    </tr>\n",
       "    <tr>\n",
       "      <th>23</th>\n",
       "      <td>From Amy Winehouse to James Arthur, Annabel Williams has had a stellar career as a singing coach</td>\n",
       "      <td>0.000000</td>\n",
       "      <td>0.0000</td>\n",
       "    </tr>\n",
       "    <tr>\n",
       "      <th>24</th>\n",
       "      <td>Amazon moves Lord of the Rings production to UK</td>\n",
       "      <td>0.000000</td>\n",
       "      <td>0.1779</td>\n",
       "    </tr>\n",
       "    <tr>\n",
       "      <th>25</th>\n",
       "      <td>Britney Spears' father to step down as conservator</td>\n",
       "      <td>0.000000</td>\n",
       "      <td>0.0000</td>\n",
       "    </tr>\n",
       "    <tr>\n",
       "      <th>26</th>\n",
       "      <td>Grimmy on leaving Radio 1 and the 'instant bad mood' song</td>\n",
       "      <td>-0.272727</td>\n",
       "      <td>-0.5423</td>\n",
       "    </tr>\n",
       "  </tbody>\n",
       "</table>\n",
       "</div>"
      ],
      "text/plain": [
       "                                                                                               token  \\\n",
       "17                                                          Medics warn of more cancelled operations   \n",
       "18                                                                            3 things we love today   \n",
       "19                                               Three of the strangest organs in the animal kingdom   \n",
       "20                            Composer, DJ and bandleader: The women redefining the sound of UK jazz   \n",
       "21                                            Victoria Derbyshire overcomes on-air shoes malfunction   \n",
       "22                                          'I've had to develop a way of getting results instantly'   \n",
       "23  From Amy Winehouse to James Arthur, Annabel Williams has had a stellar career as a singing coach   \n",
       "24                                                   Amazon moves Lord of the Rings production to UK   \n",
       "25                                                Britney Spears' father to step down as conservator   \n",
       "26                                         Grimmy on leaving Radio 1 and the 'instant bad mood' song   \n",
       "\n",
       "    afinn_score  vader_score  \n",
       "17    -0.500000      -0.4005  \n",
       "18     0.600000       0.6369  \n",
       "19     0.000000       0.0000  \n",
       "20     0.000000       0.0000  \n",
       "21     0.000000       0.0000  \n",
       "22     0.000000       0.0000  \n",
       "23     0.000000       0.0000  \n",
       "24     0.000000       0.1779  \n",
       "25     0.000000       0.0000  \n",
       "26    -0.272727      -0.5423  "
      ]
     },
     "execution_count": 20,
     "metadata": {},
     "output_type": "execute_result"
    }
   ],
   "source": [
    "token_df[17:27]"
   ]
  },
  {
   "cell_type": "markdown",
   "metadata": {},
   "source": [
    "More observations:\n",
    "- the models seem to be missing out positive phrases this time around like `Composer, DJ and...` or `From Amy Winehouse to...`\n",
    "- but they get it right when they're both of a certain sentiment, whether it's positive or negative\n",
    "\n",
    "So it seems like the models are good complements for a composite score. Let's give it a shot..."
   ]
  },
  {
   "cell_type": "code",
   "execution_count": 22,
   "metadata": {},
   "outputs": [
    {
     "data": {
      "text/html": [
       "<div>\n",
       "<style scoped>\n",
       "    .dataframe tbody tr th:only-of-type {\n",
       "        vertical-align: middle;\n",
       "    }\n",
       "\n",
       "    .dataframe tbody tr th {\n",
       "        vertical-align: top;\n",
       "    }\n",
       "\n",
       "    .dataframe thead th {\n",
       "        text-align: right;\n",
       "    }\n",
       "</style>\n",
       "<table border=\"1\" class=\"dataframe\">\n",
       "  <thead>\n",
       "    <tr style=\"text-align: right;\">\n",
       "      <th></th>\n",
       "      <th>token</th>\n",
       "      <th>afinn_score</th>\n",
       "      <th>vader_score</th>\n",
       "      <th>composite_score</th>\n",
       "    </tr>\n",
       "  </thead>\n",
       "  <tbody>\n",
       "    <tr>\n",
       "      <th>45</th>\n",
       "      <td>Get your kids active with these football club challenges</td>\n",
       "      <td>0.111111</td>\n",
       "      <td>0.4588</td>\n",
       "      <td>1</td>\n",
       "    </tr>\n",
       "    <tr>\n",
       "      <th>46</th>\n",
       "      <td>GB's Ujah suspended after positive test</td>\n",
       "      <td>0.166667</td>\n",
       "      <td>0.1280</td>\n",
       "      <td>1</td>\n",
       "    </tr>\n",
       "    <tr>\n",
       "      <th>47</th>\n",
       "      <td>Ex-Olympian coached for years after abuse claim</td>\n",
       "      <td>-0.428571</td>\n",
       "      <td>-0.6369</td>\n",
       "      <td>-1</td>\n",
       "    </tr>\n",
       "    <tr>\n",
       "      <th>48</th>\n",
       "      <td>What are the fan tokens given to Messi by PSG?</td>\n",
       "      <td>0.300000</td>\n",
       "      <td>0.3182</td>\n",
       "      <td>1</td>\n",
       "    </tr>\n",
       "    <tr>\n",
       "      <th>49</th>\n",
       "      <td>The new trick cyber-criminals use to cash out</td>\n",
       "      <td>-0.375000</td>\n",
       "      <td>-0.0516</td>\n",
       "      <td>-1</td>\n",
       "    </tr>\n",
       "    <tr>\n",
       "      <th>50</th>\n",
       "      <td>Life in the Taliban's new territory. Video</td>\n",
       "      <td>0.000000</td>\n",
       "      <td>0.0000</td>\n",
       "      <td>0</td>\n",
       "    </tr>\n",
       "    <tr>\n",
       "      <th>51</th>\n",
       "      <td>Russia millionaire kills man he 'mistook for bear'</td>\n",
       "      <td>-0.375000</td>\n",
       "      <td>-0.5423</td>\n",
       "      <td>-1</td>\n",
       "    </tr>\n",
       "    <tr>\n",
       "      <th>52</th>\n",
       "      <td>Superstar violinist Nicola Benedetti delights the Proms. IPlayer-Video</td>\n",
       "      <td>0.375000</td>\n",
       "      <td>0.4588</td>\n",
       "      <td>1</td>\n",
       "    </tr>\n",
       "    <tr>\n",
       "      <th>53</th>\n",
       "      <td>Looking back on 40 years of Indiana Jones. Audio</td>\n",
       "      <td>0.000000</td>\n",
       "      <td>0.0000</td>\n",
       "      <td>0</td>\n",
       "    </tr>\n",
       "    <tr>\n",
       "      <th>54</th>\n",
       "      <td>The ghosts are back for more supernatural shenanigans. IPlayer-Video</td>\n",
       "      <td>0.000000</td>\n",
       "      <td>0.0000</td>\n",
       "      <td>0</td>\n",
       "    </tr>\n",
       "  </tbody>\n",
       "</table>\n",
       "</div>"
      ],
      "text/plain": [
       "                                                                     token  \\\n",
       "45                Get your kids active with these football club challenges   \n",
       "46                                 GB's Ujah suspended after positive test   \n",
       "47                         Ex-Olympian coached for years after abuse claim   \n",
       "48                          What are the fan tokens given to Messi by PSG?   \n",
       "49                           The new trick cyber-criminals use to cash out   \n",
       "50                              Life in the Taliban's new territory. Video   \n",
       "51                      Russia millionaire kills man he 'mistook for bear'   \n",
       "52  Superstar violinist Nicola Benedetti delights the Proms. IPlayer-Video   \n",
       "53                        Looking back on 40 years of Indiana Jones. Audio   \n",
       "54    The ghosts are back for more supernatural shenanigans. IPlayer-Video   \n",
       "\n",
       "    afinn_score  vader_score  composite_score  \n",
       "45     0.111111       0.4588                1  \n",
       "46     0.166667       0.1280                1  \n",
       "47    -0.428571      -0.6369               -1  \n",
       "48     0.300000       0.3182                1  \n",
       "49    -0.375000      -0.0516               -1  \n",
       "50     0.000000       0.0000                0  \n",
       "51    -0.375000      -0.5423               -1  \n",
       "52     0.375000       0.4588                1  \n",
       "53     0.000000       0.0000                0  \n",
       "54     0.000000       0.0000                0  "
      ]
     },
     "execution_count": 22,
     "metadata": {},
     "output_type": "execute_result"
    }
   ],
   "source": [
    "for token in scored_tokens:\n",
    "    \n",
    "    if (token[\"afinn_score\"] == 0 and token[\"vader_score\"] == 0) or (token[\"afinn_score\"] * token[\"vader_score\"] < 0):\n",
    "        token[\"composite_score\"] = 0\n",
    "    elif (token[\"afinn_score\"] > 0 or token[\"vader_score\"] > 0):\n",
    "        token[\"composite_score\"] = 1\n",
    "    else:\n",
    "        token[\"composite_score\"] = -1\n",
    "        \n",
    "token_df = pd.DataFrame(scored_tokens)\n",
    "token_df[45:55]"
   ]
  },
  {
   "cell_type": "markdown",
   "metadata": {},
   "source": [
    "It seems to be doing better, with only 2 misses in `GB's Ujah suspended...` and `What are fan tokens...`. But what if we could make it even more accurate with a pre-trained, state-of-the-art model? Enter Hugging Face"
   ]
  },
  {
   "cell_type": "code",
   "execution_count": 23,
   "metadata": {},
   "outputs": [
    {
     "ename": "ModuleNotFoundError",
     "evalue": "No module named 'transformers'",
     "output_type": "error",
     "traceback": [
      "\u001b[0;31m---------------------------------------------------------------------------\u001b[0m",
      "\u001b[0;31mModuleNotFoundError\u001b[0m                       Traceback (most recent call last)",
      "\u001b[0;32m/tmp/ipykernel_26090/4275675212.py\u001b[0m in \u001b[0;36m<module>\u001b[0;34m\u001b[0m\n\u001b[0;32m----> 1\u001b[0;31m \u001b[0;32mfrom\u001b[0m \u001b[0mtransformers\u001b[0m \u001b[0;32mimport\u001b[0m \u001b[0mpipeline\u001b[0m\u001b[0;34m\u001b[0m\u001b[0;34m\u001b[0m\u001b[0m\n\u001b[0m\u001b[1;32m      2\u001b[0m \u001b[0mclassifier\u001b[0m \u001b[0;34m=\u001b[0m \u001b[0mpipeline\u001b[0m\u001b[0;34m(\u001b[0m\u001b[0;34m\"sentiment-analysis\"\u001b[0m\u001b[0;34m)\u001b[0m\u001b[0;34m\u001b[0m\u001b[0;34m\u001b[0m\u001b[0m\n",
      "\u001b[0;31mModuleNotFoundError\u001b[0m: No module named 'transformers'"
     ]
    }
   ],
   "source": [
    "from transformers import pipeline\n",
    "classifier = pipeline(\"sentiment-analysis\")"
   ]
  },
  {
   "cell_type": "code",
   "execution_count": 10,
   "metadata": {
    "jp-MarkdownHeadingCollapsed": true,
    "tags": []
   },
   "outputs": [
    {
     "data": {
      "text/plain": [
       "token          14\n",
       "afinn_score    14\n",
       "vader_score    14\n",
       "dtype: int64"
      ]
     },
     "execution_count": 10,
     "metadata": {},
     "output_type": "execute_result"
    }
   ],
   "source": [
    "filtered_token = token_df[(token_df[\"afinn_score\"] * token_df[\"vader_score\"] <= 0) &\n",
    "    ((token_df[\"afinn_score\"] != 0) | (token_df[\"vader_score\"] != 0))]\n",
    "\n",
    "filtered_token.count()"
   ]
  }
 ],
 "metadata": {
  "interpreter": {
   "hash": "34e04979d73b2ceef69adabefb5e026b4557b5b2bae59a0151ac0f9ce1842be6"
  },
  "kernelspec": {
   "display_name": "Python 3 (ipykernel)",
   "language": "python",
   "name": "python3"
  },
  "language_info": {
   "codemirror_mode": {
    "name": "ipython",
    "version": 3
   },
   "file_extension": ".py",
   "mimetype": "text/x-python",
   "name": "python",
   "nbconvert_exporter": "python",
   "pygments_lexer": "ipython3",
   "version": "3.9.6"
  }
 },
 "nbformat": 4,
 "nbformat_minor": 4
}
