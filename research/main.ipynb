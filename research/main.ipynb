{
 "cells": [
  {
   "cell_type": "markdown",
   "metadata": {},
   "source": [
    "Submit request to website"
   ]
  },
  {
   "cell_type": "code",
   "execution_count": 1,
   "metadata": {},
   "outputs": [],
   "source": [
    "import requests\n",
    "\n",
    "def request(url):\n",
    "    \"\"\"sends a request to the URL\"\"\"\n",
    "\n",
    "    # add https if not in there at start\n",
    "    if url[0:8] != \"https://\" and url[0:7] != \"http://\":\n",
    "        url = \"https://\" + url\n",
    "\n",
    "    my_session = requests.session()\n",
    "    for_cookies = requests.get(url, timeout=5).cookies\n",
    "    headers = {\n",
    "        \"User-Agent\": \"Mozilla/5.0 (Windows NT 6.1; Win64; x64; rv:57.0) Gecko/20100101 Firefox/57.0\"\n",
    "    }\n",
    "\n",
    "    return my_session.get(url, headers=headers, cookies=for_cookies, timeout=5)\n",
    "\n",
    "response = request(\"bbc.co.uk\")"
   ]
  },
  {
   "cell_type": "code",
   "execution_count": 2,
   "metadata": {},
   "outputs": [
    {
     "name": "stdout",
     "output_type": "stream",
     "text": [
      "200\n",
      "<!DOCTYPE html><html lang=\"en-GB\" class=\"no-js\"><head><meta charSet=\"utf-8\" /><meta name=\"viewport\" \n"
     ]
    }
   ],
   "source": [
    "print(response.status_code)\n",
    "print(response.text[0:100])"
   ]
  },
  {
   "cell_type": "markdown",
   "metadata": {},
   "source": [
    "Read the HTML content as a string to analyse. In order for people to replicate my results, I've already downloaded the HTML text."
   ]
  },
  {
   "cell_type": "code",
   "execution_count": 3,
   "metadata": {},
   "outputs": [
    {
     "data": {
      "text/plain": [
       "'<!DOCTYPE html><html lang=\"en-GB\" class=\"no-js\"><head><meta charSet=\"utf-8\" /><meta name=\"viewport\" content=\"width=device-width, initial-scale=1\" /><title data-rh=\"true\">BBC - Home</title><meta data-r'"
      ]
     },
     "execution_count": 3,
     "metadata": {},
     "output_type": "execute_result"
    }
   ],
   "source": [
    "#response_text = response.text\n",
    "\n",
    "## this is how I saved the response in a text file\n",
    "\n",
    "#with open(\"response.txt\", \"w\") as text_file:\n",
    "#    text_file.write(response_text)\n",
    "\n",
    "with open(\"response.txt\",\"r\") as text_file:\n",
    "    response_text = text_file.read()\n",
    "    \n",
    "response_text[0:200]"
   ]
  },
  {
   "cell_type": "markdown",
   "metadata": {},
   "source": [
    "get the individual text pieces inside the web page as separate list elements using Beautiful Soup"
   ]
  },
  {
   "cell_type": "code",
   "execution_count": 4,
   "metadata": {},
   "outputs": [],
   "source": [
    "from bs4 import BeautifulSoup as bs\n",
    "\n",
    "soup_li = bs(response_text, \"lxml\").body.get_text(separator=\"||\").split(\"||\")"
   ]
  },
  {
   "cell_type": "code",
   "execution_count": 5,
   "metadata": {},
   "outputs": [
    {
     "name": "stdout",
     "output_type": "stream",
     "text": [
      "280\n",
      "['BBC Homepage', 'Skip to content', 'Accessibility Help', 'Your account', 'Notifications', 'Home', 'News', 'Sport', 'Weather', 'iPlayer', 'Sounds', 'CBBC', 'CBeebies', 'Menu', 'More', 'Search', 'Home', 'News', 'Sport', 'Weather']\n"
     ]
    }
   ],
   "source": [
    "print(len(soup_li))\n",
    "print(soup_li[0:20])"
   ]
  },
  {
   "cell_type": "markdown",
   "metadata": {},
   "source": [
    "There's a ton of one-word tokens; let's filter them out"
   ]
  },
  {
   "cell_type": "code",
   "execution_count": 6,
   "metadata": {},
   "outputs": [],
   "source": [
    "long_tokens = [x for x in soup_li if len(x.split()) >= 5]"
   ]
  },
  {
   "cell_type": "code",
   "execution_count": 7,
   "metadata": {},
   "outputs": [
    {
     "name": "stdout",
     "output_type": "stream",
     "text": [
      "73\n"
     ]
    },
    {
     "data": {
      "text/plain": [
       "['Plymouth mass shooter was licensed gun holder',\n",
       " 'PM calls emergency meeting to discuss Afghanistan',\n",
       " 'England bat after Anderson takes five wickets in second Test',\n",
       " \"Teachers: 'It's been hell grading exams'\",\n",
       " \"'One signing could decide the title race, but it's not Harry Kane'\",\n",
       " 'Lure of the island with no electricity or wi-fi',\n",
       " 'UK records a further 100 Covid deaths',\n",
       " 'Germany fears thousands got saline, not vaccine',\n",
       " \"'We had to tip milk down the drain - now we sell 200-400 bottles a day'\",\n",
       " \"Gunman's victims include three-year-old girl\",\n",
       " 'Panic as thousands flee Taliban onslaught',\n",
       " 'Murder-accused boy, 14, in court after stabbing',\n",
       " 'England lose two wickets in two balls - clips, radio & text',\n",
       " \"Women's Hundred: Trent Rockets struggle in must-win game against Birmingham Phoenix\",\n",
       " \"'One signing could decide the title race - but it's not Harry Kane'\",\n",
       " \"Holiday 'stress' over paper vaccine certificate\",\n",
       " 'Woman arrested in murder probe after boy, 2, dies',\n",
       " 'Medics warn of more cancelled operations',\n",
       " '3 things we love today',\n",
       " 'Three of the strangest organs in the animal kingdom',\n",
       " 'Composer, DJ and bandleader: The women redefining the sound of UK jazz',\n",
       " 'Victoria Derbyshire overcomes on-air shoes malfunction',\n",
       " \"'I've had to develop a way of getting results instantly'\",\n",
       " 'From Amy Winehouse to James Arthur, Annabel Williams has had a stellar career as a singing coach',\n",
       " 'Amazon moves Lord of the Rings production to UK',\n",
       " \"Britney Spears' father to step down as conservator\",\n",
       " \"Grimmy on leaving Radio 1 and the 'instant bad mood' song\",\n",
       " 'Olympian Adam Peaty joins the all-star Strictly 2021 line-up',\n",
       " \"Casualty's 10 most memorable episodes\",\n",
       " 'Marvel launches new Disney+ show featuring Chadwick Boseman',\n",
       " \"First batch of student's washing machines shipped\",\n",
       " \"'I'm just not ready to buy an electric car'\",\n",
       " 'Olympian given new medal after first got bitten',\n",
       " \"'When you're on a BMX 20 feet in the air there's no room for error' Video\",\n",
       " \"'When you're on a BMX 20 feet in the air there's no room for error'\",\n",
       " \"Swimmer taking on 'coldest swim on Earth' to highlight climate change\",\n",
       " \"Why the Tourette's queen of Twitch hasn't been banned\",\n",
       " \"'We never knew how dangerous Loch Lomond was'\",\n",
       " 'Postcard from Chile arrives in Dorset after 30 years',\n",
       " 'Decades-old lesson found on hidden blackboard',\n",
       " 'Hampshire & Isle of Wight',\n",
       " 'Flexible recipes for when you need to use up leftovers',\n",
       " 'Totally affordable 30-minute meals for two',\n",
       " 'Create incredible pasta dishes with only five ingredients',\n",
       " 'How often do you bathe your children? Celebrities debate',\n",
       " \"'We drove from Ireland to Australia in a camper van'\",\n",
       " 'Get your kids active with these football club challenges',\n",
       " \"GB's Ujah suspended after positive test\",\n",
       " 'Ex-Olympian coached for years after abuse claim',\n",
       " 'What are the fan tokens given to Messi by PSG?',\n",
       " 'The new trick cyber-criminals use to cash out',\n",
       " \"Life in the Taliban's new territory. Video\",\n",
       " \"Life in the Taliban's new territory\",\n",
       " \"Russia millionaire kills man he 'mistook for bear'\",\n",
       " 'Superstar violinist Nicola Benedetti delights the Proms. IPlayer-Video',\n",
       " 'Superstar violinist Nicola Benedetti delights the Proms',\n",
       " 'Looking back on 40 years of Indiana Jones. Audio',\n",
       " 'Looking back on 40 years of Indiana Jones',\n",
       " 'The ghosts are back for more supernatural shenanigans. IPlayer-Video',\n",
       " 'The ghosts are back for more supernatural shenanigans',\n",
       " 'See the latest results, including Lotto, EuroMillions, Set for Life and Thunderball',\n",
       " 'The BBC around the UK',\n",
       " 'Final call for all ballroom dancers! iPlayer',\n",
       " 'Final call for all ballroom dancers!',\n",
       " 'One mystery, four suspects, many lies. iPlayer',\n",
       " 'One mystery, four suspects, many lies',\n",
       " 'A chilling tale of an ill-fated mission. iPlayer',\n",
       " 'A chilling tale of an ill-fated mission',\n",
       " 'Steal yourself a movie night tonight... iPlayer',\n",
       " 'Steal yourself a movie night tonight...',\n",
       " 'Why you can trust the BBC',\n",
       " 'Â© 2021 BBC. The BBC is not responsible for the content of external sites. ',\n",
       " 'Read about our approach to external linking.']"
      ]
     },
     "execution_count": 7,
     "metadata": {},
     "output_type": "execute_result"
    }
   ],
   "source": [
    "print(len(long_tokens))\n",
    "long_tokens"
   ]
  },
  {
   "cell_type": "markdown",
   "metadata": {},
   "source": [
    "Notice how there's a few phrases that repeat. It seems the shorter ones are more suitable, but it would be hard to make this work algorithmically. So we'll take the longer ones instead even though they contain irrelevant words."
   ]
  },
  {
   "cell_type": "code",
   "execution_count": 14,
   "metadata": {},
   "outputs": [
    {
     "data": {
      "text/plain": [
       "['Plymouth mass shooter was licensed gun holder',\n",
       " 'PM calls emergency meeting to discuss Afghanistan',\n",
       " 'England bat after Anderson takes five wickets in second Test',\n",
       " \"Teachers: 'It's been hell grading exams'\",\n",
       " \"'One signing could decide the title race, but it's not Harry Kane'\",\n",
       " 'Lure of the island with no electricity or wi-fi',\n",
       " 'UK records a further 100 Covid deaths',\n",
       " 'Germany fears thousands got saline, not vaccine',\n",
       " \"'We had to tip milk down the drain - now we sell 200-400 bottles a day'\",\n",
       " \"Gunman's victims include three-year-old girl\",\n",
       " 'Panic as thousands flee Taliban onslaught',\n",
       " 'Murder-accused boy, 14, in court after stabbing',\n",
       " 'England lose two wickets in two balls - clips, radio & text',\n",
       " \"Women's Hundred: Trent Rockets struggle in must-win game against Birmingham Phoenix\",\n",
       " \"'One signing could decide the title race - but it's not Harry Kane'\",\n",
       " \"Holiday 'stress' over paper vaccine certificate\",\n",
       " 'Woman arrested in murder probe after boy, 2, dies',\n",
       " 'Medics warn of more cancelled operations',\n",
       " '3 things we love today',\n",
       " 'Three of the strangest organs in the animal kingdom',\n",
       " 'Composer, DJ and bandleader: The women redefining the sound of UK jazz',\n",
       " 'Victoria Derbyshire overcomes on-air shoes malfunction',\n",
       " \"'I've had to develop a way of getting results instantly'\",\n",
       " 'From Amy Winehouse to James Arthur, Annabel Williams has had a stellar career as a singing coach',\n",
       " 'Amazon moves Lord of the Rings production to UK',\n",
       " \"Britney Spears' father to step down as conservator\",\n",
       " \"Grimmy on leaving Radio 1 and the 'instant bad mood' song\",\n",
       " 'Olympian Adam Peaty joins the all-star Strictly 2021 line-up',\n",
       " \"Casualty's 10 most memorable episodes\",\n",
       " 'Marvel launches new Disney+ show featuring Chadwick Boseman',\n",
       " \"First batch of student's washing machines shipped\",\n",
       " \"'I'm just not ready to buy an electric car'\",\n",
       " 'Olympian given new medal after first got bitten',\n",
       " \"'When you're on a BMX 20 feet in the air there's no room for error' Video\",\n",
       " \"Swimmer taking on 'coldest swim on Earth' to highlight climate change\",\n",
       " \"Why the Tourette's queen of Twitch hasn't been banned\",\n",
       " \"'We never knew how dangerous Loch Lomond was'\",\n",
       " 'Postcard from Chile arrives in Dorset after 30 years',\n",
       " 'Decades-old lesson found on hidden blackboard',\n",
       " 'Hampshire & Isle of Wight',\n",
       " 'Flexible recipes for when you need to use up leftovers',\n",
       " 'Totally affordable 30-minute meals for two',\n",
       " 'Create incredible pasta dishes with only five ingredients',\n",
       " 'How often do you bathe your children? Celebrities debate',\n",
       " \"'We drove from Ireland to Australia in a camper van'\",\n",
       " 'Get your kids active with these football club challenges',\n",
       " \"GB's Ujah suspended after positive test\",\n",
       " 'Ex-Olympian coached for years after abuse claim',\n",
       " 'What are the fan tokens given to Messi by PSG?',\n",
       " 'The new trick cyber-criminals use to cash out',\n",
       " \"Life in the Taliban's new territory. Video\",\n",
       " \"Russia millionaire kills man he 'mistook for bear'\",\n",
       " 'Superstar violinist Nicola Benedetti delights the Proms. IPlayer-Video',\n",
       " 'Looking back on 40 years of Indiana Jones. Audio',\n",
       " 'The ghosts are back for more supernatural shenanigans. IPlayer-Video',\n",
       " 'See the latest results, including Lotto, EuroMillions, Set for Life and Thunderball',\n",
       " 'The BBC around the UK',\n",
       " 'Final call for all ballroom dancers! iPlayer',\n",
       " 'One mystery, four suspects, many lies. iPlayer',\n",
       " 'A chilling tale of an ill-fated mission. iPlayer',\n",
       " 'Steal yourself a movie night tonight... iPlayer',\n",
       " 'Why you can trust the BBC',\n",
       " 'Â© 2021 BBC. The BBC is not responsible for the content of external sites. ',\n",
       " 'Read about our approach to external linking.']"
      ]
     },
     "execution_count": 14,
     "metadata": {},
     "output_type": "execute_result"
    }
   ],
   "source": [
    "def is_copy(text_input, text_li):\n",
    "    counter = 0\n",
    "    for text in text_li:\n",
    "        if text_input in text:\n",
    "            counter += 1\n",
    "    return counter > 1\n",
    "\n",
    "unique_tokens = [x for x in long_tokens if not is_copy(x, long_tokens)]\n",
    "unique_tokens"
   ]
  },
  {
   "cell_type": "markdown",
   "metadata": {},
   "source": [
    "Score each of the tokens using...\n",
    "- [AFINN](https://github.com/fnielsen/afinn) = wordlist-based approach\n",
    "- [VADER](https://github.com/cjhutto/vaderSentiment) = lexicon+rule-based approach"
   ]
  },
  {
   "cell_type": "code",
   "execution_count": 7,
   "metadata": {},
   "outputs": [],
   "source": [
    "from afinn import Afinn\n",
    "from vaderSentiment.vaderSentiment import SentimentIntensityAnalyzer\n",
    "\n",
    "afinn = Afinn()\n",
    "vader = SentimentIntensityAnalyzer()\n",
    "scored_tokens = []\n",
    "\n",
    "for token in tokens:\n",
    "  # afinn.score calculates by adding up individual scores for words\n",
    "  # so you need to standardise by dividing the length of the phrase\n",
    "  afinn_score = afinn.score(token) / len(token.split())\n",
    "\n",
    "  vader_score = vader.polarity_scores(token)[\"compound\"]\n",
    "  \n",
    "  scored_tokens.append({\"token\": token, \"afinn_score\": afinn_score, \"vader_score\": vader_score})"
   ]
  },
  {
   "cell_type": "markdown",
   "metadata": {},
   "source": [
    "Check the output..."
   ]
  },
  {
   "cell_type": "code",
   "execution_count": 8,
   "metadata": {},
   "outputs": [
    {
     "name": "stdout",
     "output_type": "stream",
     "text": [
      "73 [{'token': ' 2021 BBC. The BBC is not responsible for the content of external sites. ', 'afinn_score': 0.15384615384615385, 'vader_score': -0.2411}, {'token': \"'I'm just not ready to buy an electric car'\", 'afinn_score': 0.0, 'vader_score': -0.2755}, {'token': \"'I've had to develop a way of getting results instantly'\", 'afinn_score': 0.0, 'vader_score': 0.0}, {'token': \"'One signing could decide the title race - but it's not Harry Kane'\", 'afinn_score': 0.0, 'vader_score': 0.0}, {'token': \"'One signing could decide the title race, but it's not Harry Kane'\", 'afinn_score': 0.0, 'vader_score': 0.0}, {'token': \"'We drove from Ireland to Australia in a camper van'\", 'afinn_score': 0.0, 'vader_score': 0.0}, {'token': \"'We had to tip milk down the drain - now we sell 200-400 bottles a day'\", 'afinn_score': 0.0, 'vader_score': 0.0}, {'token': \"'We never knew how dangerous Loch Lomond was'\", 'afinn_score': -0.25, 'vader_score': 0.3724}, {'token': \"'When you're on a BMX 20 feet in the air there's no room for error'\", 'afinn_score': -0.2, 'vader_score': -0.5994}, {'token': \"'When you're on a BMX 20 feet in the air there's no room for error' Video\", 'afinn_score': -0.1875, 'vader_score': -0.5994}]\n"
     ]
    }
   ],
   "source": [
    "print(len(scored_tokens), scored_tokens[0:10])"
   ]
  },
  {
   "cell_type": "markdown",
   "metadata": {},
   "source": [
    "Let's move the data to pandas and spot-check some of the results"
   ]
  },
  {
   "cell_type": "code",
   "execution_count": 10,
   "metadata": {},
   "outputs": [
    {
     "data": {
      "text/html": [
       "<div>\n",
       "<style scoped>\n",
       "    .dataframe tbody tr th:only-of-type {\n",
       "        vertical-align: middle;\n",
       "    }\n",
       "\n",
       "    .dataframe tbody tr th {\n",
       "        vertical-align: top;\n",
       "    }\n",
       "\n",
       "    .dataframe thead th {\n",
       "        text-align: right;\n",
       "    }\n",
       "</style>\n",
       "<table border=\"1\" class=\"dataframe\">\n",
       "  <thead>\n",
       "    <tr style=\"text-align: right;\">\n",
       "      <th></th>\n",
       "      <th>token</th>\n",
       "      <th>afinn_score</th>\n",
       "      <th>vader_score</th>\n",
       "    </tr>\n",
       "  </thead>\n",
       "  <tbody>\n",
       "    <tr>\n",
       "      <th>33</th>\n",
       "      <td>Holiday 'stress' over paper vaccine certificate</td>\n",
       "      <td>-0.166667</td>\n",
       "      <td>-0.0258</td>\n",
       "    </tr>\n",
       "    <tr>\n",
       "      <th>34</th>\n",
       "      <td>How often do you bathe your children? Celebrities debate</td>\n",
       "      <td>0.000000</td>\n",
       "      <td>0.0000</td>\n",
       "    </tr>\n",
       "    <tr>\n",
       "      <th>35</th>\n",
       "      <td>Life in the Taliban's new territory</td>\n",
       "      <td>0.000000</td>\n",
       "      <td>0.0000</td>\n",
       "    </tr>\n",
       "    <tr>\n",
       "      <th>36</th>\n",
       "      <td>Life in the Taliban's new territory. Video</td>\n",
       "      <td>0.000000</td>\n",
       "      <td>0.0000</td>\n",
       "    </tr>\n",
       "    <tr>\n",
       "      <th>37</th>\n",
       "      <td>Looking back on 40 years of Indiana Jones</td>\n",
       "      <td>0.000000</td>\n",
       "      <td>0.0000</td>\n",
       "    </tr>\n",
       "    <tr>\n",
       "      <th>38</th>\n",
       "      <td>Looking back on 40 years of Indiana Jones. Audio</td>\n",
       "      <td>0.000000</td>\n",
       "      <td>0.0000</td>\n",
       "    </tr>\n",
       "    <tr>\n",
       "      <th>39</th>\n",
       "      <td>Lure of the island with no electricity or wi-fi</td>\n",
       "      <td>-0.111111</td>\n",
       "      <td>-0.2960</td>\n",
       "    </tr>\n",
       "    <tr>\n",
       "      <th>40</th>\n",
       "      <td>Marvel launches new Disney+ show featuring Chadwick Boseman</td>\n",
       "      <td>0.375000</td>\n",
       "      <td>0.4215</td>\n",
       "    </tr>\n",
       "    <tr>\n",
       "      <th>41</th>\n",
       "      <td>Medics warn of more cancelled operations</td>\n",
       "      <td>-0.500000</td>\n",
       "      <td>-0.4005</td>\n",
       "    </tr>\n",
       "    <tr>\n",
       "      <th>42</th>\n",
       "      <td>Murder-accused boy, 14, in court after stabbing</td>\n",
       "      <td>-0.571429</td>\n",
       "      <td>0.0000</td>\n",
       "    </tr>\n",
       "  </tbody>\n",
       "</table>\n",
       "</div>"
      ],
      "text/plain": [
       "                                                          token  afinn_score  \\\n",
       "33              Holiday 'stress' over paper vaccine certificate    -0.166667   \n",
       "34     How often do you bathe your children? Celebrities debate     0.000000   \n",
       "35                          Life in the Taliban's new territory     0.000000   \n",
       "36                   Life in the Taliban's new territory. Video     0.000000   \n",
       "37                    Looking back on 40 years of Indiana Jones     0.000000   \n",
       "38             Looking back on 40 years of Indiana Jones. Audio     0.000000   \n",
       "39              Lure of the island with no electricity or wi-fi    -0.111111   \n",
       "40  Marvel launches new Disney+ show featuring Chadwick Boseman     0.375000   \n",
       "41                     Medics warn of more cancelled operations    -0.500000   \n",
       "42              Murder-accused boy, 14, in court after stabbing    -0.571429   \n",
       "\n",
       "    vader_score  \n",
       "33      -0.0258  \n",
       "34       0.0000  \n",
       "35       0.0000  \n",
       "36       0.0000  \n",
       "37       0.0000  \n",
       "38       0.0000  \n",
       "39      -0.2960  \n",
       "40       0.4215  \n",
       "41      -0.4005  \n",
       "42       0.0000  "
      ]
     },
     "execution_count": 10,
     "metadata": {},
     "output_type": "execute_result"
    }
   ],
   "source": [
    "import pandas as pd\n",
    "\n",
    "pd.set_option(\"max_row\",None)\n",
    "pd.set_option('display.max_colwidth', None)\n",
    "\n",
    "token_df = pd.DataFrame(scored_tokens)\n",
    "\n",
    "token_df[33:43]"
   ]
  },
  {
   "cell_type": "markdown",
   "metadata": {},
   "source": [
    "Both scoring models seem pretty accurate and mostly agree with each other. The few exceptions I noticed when spot-checking:\n",
    "- `Composer, DJ and bandleader...` should be a positive text, yet both models scored it as neutral. I can see why though, there weren't any particular words that suggested positivity.\n",
    "- `Totally affordable...` was missed out by VADER as being a positive word"
   ]
  },
  {
   "cell_type": "markdown",
   "metadata": {},
   "source": [
    "Let's now see all the places where the two models disagree"
   ]
  },
  {
   "cell_type": "code",
   "execution_count": 10,
   "metadata": {
    "jp-MarkdownHeadingCollapsed": true,
    "tags": []
   },
   "outputs": [
    {
     "data": {
      "text/plain": [
       "token          14\n",
       "afinn_score    14\n",
       "vader_score    14\n",
       "dtype: int64"
      ]
     },
     "execution_count": 10,
     "metadata": {},
     "output_type": "execute_result"
    }
   ],
   "source": [
    "filtered_token = token_df[(token_df[\"afinn_score\"] * token_df[\"vader_score\"] <= 0) &\n",
    "    ((token_df[\"afinn_score\"] != 0) | (token_df[\"vader_score\"] != 0))]\n",
    "\n",
    "filtered_token.count()"
   ]
  },
  {
   "cell_type": "markdown",
   "metadata": {},
   "source": [
    "So there's 14 out of 79 places where the 2 models disagree, which is roughly 25% of the time."
   ]
  },
  {
   "cell_type": "markdown",
   "metadata": {},
   "source": [
    "Let's have a look where exactly there's disagreements."
   ]
  },
  {
   "cell_type": "code",
   "execution_count": 11,
   "metadata": {},
   "outputs": [
    {
     "data": {
      "text/html": [
       "<div>\n",
       "<style scoped>\n",
       "    .dataframe tbody tr th:only-of-type {\n",
       "        vertical-align: middle;\n",
       "    }\n",
       "\n",
       "    .dataframe tbody tr th {\n",
       "        vertical-align: top;\n",
       "    }\n",
       "\n",
       "    .dataframe thead th {\n",
       "        text-align: right;\n",
       "    }\n",
       "</style>\n",
       "<table border=\"1\" class=\"dataframe\">\n",
       "  <thead>\n",
       "    <tr style=\"text-align: right;\">\n",
       "      <th></th>\n",
       "      <th>token</th>\n",
       "      <th>afinn_score</th>\n",
       "      <th>vader_score</th>\n",
       "    </tr>\n",
       "  </thead>\n",
       "  <tbody>\n",
       "    <tr>\n",
       "      <th>8</th>\n",
       "      <td>'I'm just not ready to buy an electric car'</td>\n",
       "      <td>0.000000</td>\n",
       "      <td>-0.2755</td>\n",
       "    </tr>\n",
       "    <tr>\n",
       "      <th>14</th>\n",
       "      <td>2021 BBC. The BBC is not responsible for the content of external sites.</td>\n",
       "      <td>0.153846</td>\n",
       "      <td>-0.2411</td>\n",
       "    </tr>\n",
       "    <tr>\n",
       "      <th>19</th>\n",
       "      <td>Amazon moves Lord of the Rings production to UK</td>\n",
       "      <td>0.000000</td>\n",
       "      <td>0.1779</td>\n",
       "    </tr>\n",
       "    <tr>\n",
       "      <th>22</th>\n",
       "      <td>'We never knew how dangerous Loch Lomond was'</td>\n",
       "      <td>-0.250000</td>\n",
       "      <td>0.3724</td>\n",
       "    </tr>\n",
       "    <tr>\n",
       "      <th>23</th>\n",
       "      <td>Why the Tourette's queen of Twitch hasn't been banned</td>\n",
       "      <td>-0.222222</td>\n",
       "      <td>0.3570</td>\n",
       "    </tr>\n",
       "    <tr>\n",
       "      <th>44</th>\n",
       "      <td>England lose two wickets in two balls - clips, radio &amp; text</td>\n",
       "      <td>0.000000</td>\n",
       "      <td>-0.4019</td>\n",
       "    </tr>\n",
       "    <tr>\n",
       "      <th>48</th>\n",
       "      <td>Women's Hundred: Trent Rockets struggle in must-win game against Birmingham Phoenix</td>\n",
       "      <td>0.181818</td>\n",
       "      <td>-0.3182</td>\n",
       "    </tr>\n",
       "    <tr>\n",
       "      <th>49</th>\n",
       "      <td>UK records a further 100 Covid deaths</td>\n",
       "      <td>-0.285714</td>\n",
       "      <td>0.0000</td>\n",
       "    </tr>\n",
       "    <tr>\n",
       "      <th>61</th>\n",
       "      <td>Germany fears thousands got saline, not vaccine</td>\n",
       "      <td>0.000000</td>\n",
       "      <td>-0.4215</td>\n",
       "    </tr>\n",
       "    <tr>\n",
       "      <th>63</th>\n",
       "      <td>Murder-accused boy, 14, in court after stabbing</td>\n",
       "      <td>-0.571429</td>\n",
       "      <td>0.0000</td>\n",
       "    </tr>\n",
       "    <tr>\n",
       "      <th>64</th>\n",
       "      <td>Casualty's 10 most memorable episodes</td>\n",
       "      <td>-0.200000</td>\n",
       "      <td>0.0000</td>\n",
       "    </tr>\n",
       "    <tr>\n",
       "      <th>72</th>\n",
       "      <td>Totally affordable 30-minute meals for two</td>\n",
       "      <td>0.333333</td>\n",
       "      <td>0.0000</td>\n",
       "    </tr>\n",
       "    <tr>\n",
       "      <th>73</th>\n",
       "      <td>Create incredible pasta dishes with only five ingredients</td>\n",
       "      <td>0.000000</td>\n",
       "      <td>0.2732</td>\n",
       "    </tr>\n",
       "    <tr>\n",
       "      <th>74</th>\n",
       "      <td>Flexible recipes for when you need to use up leftovers</td>\n",
       "      <td>0.000000</td>\n",
       "      <td>0.2263</td>\n",
       "    </tr>\n",
       "  </tbody>\n",
       "</table>\n",
       "</div>"
      ],
      "text/plain": [
       "                                                                                  token  \\\n",
       "8                                           'I'm just not ready to buy an electric car'   \n",
       "14             2021 BBC. The BBC is not responsible for the content of external sites.    \n",
       "19                                      Amazon moves Lord of the Rings production to UK   \n",
       "22                                        'We never knew how dangerous Loch Lomond was'   \n",
       "23                                Why the Tourette's queen of Twitch hasn't been banned   \n",
       "44                          England lose two wickets in two balls - clips, radio & text   \n",
       "48  Women's Hundred: Trent Rockets struggle in must-win game against Birmingham Phoenix   \n",
       "49                                                UK records a further 100 Covid deaths   \n",
       "61                                      Germany fears thousands got saline, not vaccine   \n",
       "63                                      Murder-accused boy, 14, in court after stabbing   \n",
       "64                                                Casualty's 10 most memorable episodes   \n",
       "72                                           Totally affordable 30-minute meals for two   \n",
       "73                            Create incredible pasta dishes with only five ingredients   \n",
       "74                               Flexible recipes for when you need to use up leftovers   \n",
       "\n",
       "    afinn_score  vader_score  \n",
       "8      0.000000      -0.2755  \n",
       "14     0.153846      -0.2411  \n",
       "19     0.000000       0.1779  \n",
       "22    -0.250000       0.3724  \n",
       "23    -0.222222       0.3570  \n",
       "44     0.000000      -0.4019  \n",
       "48     0.181818      -0.3182  \n",
       "49    -0.285714       0.0000  \n",
       "61     0.000000      -0.4215  \n",
       "63    -0.571429       0.0000  \n",
       "64    -0.200000       0.0000  \n",
       "72     0.333333       0.0000  \n",
       "73     0.000000       0.2732  \n",
       "74     0.000000       0.2263  "
      ]
     },
     "execution_count": 11,
     "metadata": {},
     "output_type": "execute_result"
    }
   ],
   "source": [
    "filtered_token"
   ]
  },
  {
   "cell_type": "markdown",
   "metadata": {},
   "source": [
    "AFINN got 6 right, while VADER got the remainder 8. There's no clear winner then. What if we now look into this using a trained, state-of-the-art model? Enter HuggingFace.\n",
    "\n",
    "We have several options on the menu: classic BERT, DistilBERT, RoBERTa and XLNet. I'm choosing DistilBERT because it's the most resource-light - this is a side project, after all."
   ]
  },
  {
   "cell_type": "code",
   "execution_count": 16,
   "metadata": {},
   "outputs": [
    {
     "data": {
      "text/html": [
       "<div>\n",
       "<style scoped>\n",
       "    .dataframe tbody tr th:only-of-type {\n",
       "        vertical-align: middle;\n",
       "    }\n",
       "\n",
       "    .dataframe tbody tr th {\n",
       "        vertical-align: top;\n",
       "    }\n",
       "\n",
       "    .dataframe thead th {\n",
       "        text-align: right;\n",
       "    }\n",
       "</style>\n",
       "<table border=\"1\" class=\"dataframe\">\n",
       "  <thead>\n",
       "    <tr style=\"text-align: right;\">\n",
       "      <th></th>\n",
       "      <th>token</th>\n",
       "      <th>afinn_score</th>\n",
       "      <th>vader_score</th>\n",
       "    </tr>\n",
       "  </thead>\n",
       "  <tbody>\n",
       "    <tr>\n",
       "      <th>33</th>\n",
       "      <td>Why you can trust the BBC</td>\n",
       "      <td>0.166667</td>\n",
       "      <td>0.5106</td>\n",
       "    </tr>\n",
       "    <tr>\n",
       "      <th>34</th>\n",
       "      <td>GB's Ujah suspended after positive test</td>\n",
       "      <td>0.166667</td>\n",
       "      <td>0.1280</td>\n",
       "    </tr>\n",
       "    <tr>\n",
       "      <th>35</th>\n",
       "      <td>'We never knew how dangerous Loch Lomond was'</td>\n",
       "      <td>-0.250000</td>\n",
       "      <td>0.3724</td>\n",
       "    </tr>\n",
       "    <tr>\n",
       "      <th>36</th>\n",
       "      <td>2021 BBC. The BBC is not responsible for the content of external sites.</td>\n",
       "      <td>0.153846</td>\n",
       "      <td>-0.2411</td>\n",
       "    </tr>\n",
       "    <tr>\n",
       "      <th>37</th>\n",
       "      <td>Woman arrested in murder probe after boy, 2, dies</td>\n",
       "      <td>-0.555556</td>\n",
       "      <td>-0.8316</td>\n",
       "    </tr>\n",
       "    <tr>\n",
       "      <th>38</th>\n",
       "      <td>Russia millionaire kills man he 'mistook for bear'</td>\n",
       "      <td>-0.375000</td>\n",
       "      <td>-0.5423</td>\n",
       "    </tr>\n",
       "    <tr>\n",
       "      <th>39</th>\n",
       "      <td>Casualty's 10 most memorable episodes</td>\n",
       "      <td>-0.200000</td>\n",
       "      <td>0.0000</td>\n",
       "    </tr>\n",
       "    <tr>\n",
       "      <th>40</th>\n",
       "      <td>PM calls emergency meeting to discuss Afghanistan</td>\n",
       "      <td>-0.285714</td>\n",
       "      <td>-0.3818</td>\n",
       "    </tr>\n",
       "    <tr>\n",
       "      <th>41</th>\n",
       "      <td>One mystery, four suspects, many lies</td>\n",
       "      <td>-0.166667</td>\n",
       "      <td>-0.6369</td>\n",
       "    </tr>\n",
       "    <tr>\n",
       "      <th>42</th>\n",
       "      <td>Composer, DJ and bandleader: The women redefining the sound of UK jazz</td>\n",
       "      <td>0.000000</td>\n",
       "      <td>0.0000</td>\n",
       "    </tr>\n",
       "  </tbody>\n",
       "</table>\n",
       "</div>"
      ],
      "text/plain": [
       "                                                                        token  \\\n",
       "33                                                  Why you can trust the BBC   \n",
       "34                                    GB's Ujah suspended after positive test   \n",
       "35                              'We never knew how dangerous Loch Lomond was'   \n",
       "36   2021 BBC. The BBC is not responsible for the content of external sites.    \n",
       "37                          Woman arrested in murder probe after boy, 2, dies   \n",
       "38                         Russia millionaire kills man he 'mistook for bear'   \n",
       "39                                      Casualty's 10 most memorable episodes   \n",
       "40                          PM calls emergency meeting to discuss Afghanistan   \n",
       "41                                      One mystery, four suspects, many lies   \n",
       "42     Composer, DJ and bandleader: The women redefining the sound of UK jazz   \n",
       "\n",
       "    afinn_score  vader_score  \n",
       "33     0.166667       0.5106  \n",
       "34     0.166667       0.1280  \n",
       "35    -0.250000       0.3724  \n",
       "36     0.153846      -0.2411  \n",
       "37    -0.555556      -0.8316  \n",
       "38    -0.375000      -0.5423  \n",
       "39    -0.200000       0.0000  \n",
       "40    -0.285714      -0.3818  \n",
       "41    -0.166667      -0.6369  \n",
       "42     0.000000       0.0000  "
      ]
     },
     "execution_count": 16,
     "metadata": {},
     "output_type": "execute_result"
    }
   ],
   "source": []
  }
 ],
 "metadata": {
  "interpreter": {
   "hash": "34e04979d73b2ceef69adabefb5e026b4557b5b2bae59a0151ac0f9ce1842be6"
  },
  "kernelspec": {
   "display_name": "Python 3 (ipykernel)",
   "language": "python",
   "name": "python3"
  },
  "language_info": {
   "codemirror_mode": {
    "name": "ipython",
    "version": 3
   },
   "file_extension": ".py",
   "mimetype": "text/x-python",
   "name": "python",
   "nbconvert_exporter": "python",
   "pygments_lexer": "ipython3",
   "version": "3.9.6"
  }
 },
 "nbformat": 4,
 "nbformat_minor": 4
}
