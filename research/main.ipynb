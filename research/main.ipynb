{
 "cells": [
  {
   "cell_type": "markdown",
   "metadata": {},
   "source": [
    "Import modules from web app"
   ]
  },
  {
   "cell_type": "code",
   "execution_count": 1,
   "metadata": {},
   "outputs": [],
   "source": [
    "import sys, os.path\n",
    "\n",
    "modules_dir = os.path.join(os.path.abspath(''),\"..\") + \"/main/modules\"\n",
    "sys.path.append(modules_dir)\n",
    "\n",
    "import scraping"
   ]
  },
  {
   "cell_type": "markdown",
   "metadata": {},
   "source": [
    "Retrieve HTML text from website"
   ]
  },
  {
   "cell_type": "code",
   "execution_count": 2,
   "metadata": {},
   "outputs": [],
   "source": [
    "response = scraping.request(\"bbc.co.uk\")"
   ]
  },
  {
   "cell_type": "markdown",
   "metadata": {},
   "source": [
    "Check whether the request was successful"
   ]
  },
  {
   "cell_type": "code",
   "execution_count": 3,
   "metadata": {},
   "outputs": [
    {
     "name": "stdout",
     "output_type": "stream",
     "text": [
      "200\n",
      "<!DOCTYPE html><html lang=\"en-GB\" class=\"no-js\"><head><meta charSet=\"utf-8\" /><meta name=\"viewport\" \n"
     ]
    }
   ],
   "source": [
    "print(response.status_code)\n",
    "print(response.text[0:100])"
   ]
  },
  {
   "cell_type": "markdown",
   "metadata": {},
   "source": [
    "Read the HTML content as a string to analyse. In order for people to replicate my results, I've already downloaded the HTML text."
   ]
  },
  {
   "cell_type": "code",
   "execution_count": 4,
   "metadata": {},
   "outputs": [],
   "source": [
    "#response_text = response.text\n",
    "#with open(\"response.txt\", \"w\") as text_file:\n",
    "#    text_file.write(response_text)\n",
    "\n",
    "with open(\"response.txt\",\"r\") as text_file:\n",
    "    response_text = text_file.read()"
   ]
  },
  {
   "cell_type": "markdown",
   "metadata": {},
   "source": [
    "Process the HTML text into tokens, then sort so you can replicate my results"
   ]
  },
  {
   "cell_type": "code",
   "execution_count": 5,
   "metadata": {},
   "outputs": [],
   "source": [
    "tokens = scraping.process(response_text)\n",
    "tokens.sort()"
   ]
  },
  {
   "cell_type": "markdown",
   "metadata": {},
   "source": [
    "Check the output..."
   ]
  },
  {
   "cell_type": "code",
   "execution_count": 6,
   "metadata": {},
   "outputs": [
    {
     "name": "stdout",
     "output_type": "stream",
     "text": [
      "73\n",
      "[' 2021 BBC. The BBC is not responsible for the content of external sites. ', \"'I'm just not ready to buy an electric car'\", \"'I've had to develop a way of getting results instantly'\", \"'One signing could decide the title race - but it's not Harry Kane'\", \"'One signing could decide the title race, but it's not Harry Kane'\", \"'We drove from Ireland to Australia in a camper van'\", \"'We had to tip milk down the drain - now we sell 200-400 bottles a day'\", \"'We never knew how dangerous Loch Lomond was'\", \"'When you're on a BMX 20 feet in the air there's no room for error'\", \"'When you're on a BMX 20 feet in the air there's no room for error' Video\"]\n"
     ]
    }
   ],
   "source": [
    "print(len(tokens))\n",
    "print(tokens[0:10])"
   ]
  },
  {
   "cell_type": "markdown",
   "metadata": {},
   "source": [
    "Score each of the tokens using...\n",
    "- [AFINN](https://github.com/fnielsen/afinn) = wordlist-based approach\n",
    "- [VADER](https://github.com/cjhutto/vaderSentiment) = lexicon+rule-based approach"
   ]
  },
  {
   "cell_type": "code",
   "execution_count": 7,
   "metadata": {},
   "outputs": [],
   "source": [
    "from afinn import Afinn\n",
    "from vaderSentiment.vaderSentiment import SentimentIntensityAnalyzer\n",
    "\n",
    "afinn = Afinn()\n",
    "vader = SentimentIntensityAnalyzer()\n",
    "scored_tokens = []\n",
    "\n",
    "for token in tokens:\n",
    "  # afinn.score calculates by adding up individual scores for words\n",
    "  # so you need to standardise by dividing the length of the phrase\n",
    "  afinn_score = afinn.score(token) / len(token.split())\n",
    "\n",
    "  vader_score = vader.polarity_scores(token)[\"compound\"]\n",
    "  \n",
    "  scored_tokens.append({\"token\": token, \"afinn_score\": afinn_score, \"vader_score\": vader_score})"
   ]
  },
  {
   "cell_type": "markdown",
   "metadata": {},
   "source": [
    "Check the output..."
   ]
  },
  {
   "cell_type": "code",
   "execution_count": 8,
   "metadata": {},
   "outputs": [
    {
     "name": "stdout",
     "output_type": "stream",
     "text": [
      "73 [{'token': ' 2021 BBC. The BBC is not responsible for the content of external sites. ', 'afinn_score': 0.15384615384615385, 'vader_score': -0.2411}, {'token': \"'I'm just not ready to buy an electric car'\", 'afinn_score': 0.0, 'vader_score': -0.2755}, {'token': \"'I've had to develop a way of getting results instantly'\", 'afinn_score': 0.0, 'vader_score': 0.0}, {'token': \"'One signing could decide the title race - but it's not Harry Kane'\", 'afinn_score': 0.0, 'vader_score': 0.0}, {'token': \"'One signing could decide the title race, but it's not Harry Kane'\", 'afinn_score': 0.0, 'vader_score': 0.0}, {'token': \"'We drove from Ireland to Australia in a camper van'\", 'afinn_score': 0.0, 'vader_score': 0.0}, {'token': \"'We had to tip milk down the drain - now we sell 200-400 bottles a day'\", 'afinn_score': 0.0, 'vader_score': 0.0}, {'token': \"'We never knew how dangerous Loch Lomond was'\", 'afinn_score': -0.25, 'vader_score': 0.3724}, {'token': \"'When you're on a BMX 20 feet in the air there's no room for error'\", 'afinn_score': -0.2, 'vader_score': -0.5994}, {'token': \"'When you're on a BMX 20 feet in the air there's no room for error' Video\", 'afinn_score': -0.1875, 'vader_score': -0.5994}]\n"
     ]
    }
   ],
   "source": [
    "print(len(scored_tokens), scored_tokens[0:10])"
   ]
  },
  {
   "cell_type": "markdown",
   "metadata": {},
   "source": [
    "Let's move the data to pandas and spot-check some of the results"
   ]
  },
  {
   "cell_type": "code",
   "execution_count": 9,
   "metadata": {},
   "outputs": [
    {
     "data": {
      "text/html": [
       "<div>\n",
       "<style scoped>\n",
       "    .dataframe tbody tr th:only-of-type {\n",
       "        vertical-align: middle;\n",
       "    }\n",
       "\n",
       "    .dataframe tbody tr th {\n",
       "        vertical-align: top;\n",
       "    }\n",
       "\n",
       "    .dataframe thead th {\n",
       "        text-align: right;\n",
       "    }\n",
       "</style>\n",
       "<table border=\"1\" class=\"dataframe\">\n",
       "  <thead>\n",
       "    <tr style=\"text-align: right;\">\n",
       "      <th></th>\n",
       "      <th>token</th>\n",
       "      <th>afinn_score</th>\n",
       "      <th>vader_score</th>\n",
       "    </tr>\n",
       "  </thead>\n",
       "  <tbody>\n",
       "    <tr>\n",
       "      <th>13</th>\n",
       "      <td>Amazon moves Lord of the Rings production to UK</td>\n",
       "      <td>0.000000</td>\n",
       "      <td>0.1779</td>\n",
       "    </tr>\n",
       "    <tr>\n",
       "      <th>14</th>\n",
       "      <td>Britney Spears' father to step down as conservator</td>\n",
       "      <td>0.000000</td>\n",
       "      <td>0.0000</td>\n",
       "    </tr>\n",
       "    <tr>\n",
       "      <th>15</th>\n",
       "      <td>Casualty's 10 most memorable episodes</td>\n",
       "      <td>-0.200000</td>\n",
       "      <td>0.0000</td>\n",
       "    </tr>\n",
       "    <tr>\n",
       "      <th>16</th>\n",
       "      <td>Composer, DJ and bandleader: The women redefining the sound of UK jazz</td>\n",
       "      <td>0.000000</td>\n",
       "      <td>0.0000</td>\n",
       "    </tr>\n",
       "    <tr>\n",
       "      <th>17</th>\n",
       "      <td>Create incredible pasta dishes with only five ingredients</td>\n",
       "      <td>0.000000</td>\n",
       "      <td>0.2732</td>\n",
       "    </tr>\n",
       "    <tr>\n",
       "      <th>18</th>\n",
       "      <td>Decades-old lesson found on hidden blackboard</td>\n",
       "      <td>0.000000</td>\n",
       "      <td>0.0000</td>\n",
       "    </tr>\n",
       "    <tr>\n",
       "      <th>19</th>\n",
       "      <td>England bat after Anderson takes five wickets in second Test</td>\n",
       "      <td>0.000000</td>\n",
       "      <td>0.0000</td>\n",
       "    </tr>\n",
       "    <tr>\n",
       "      <th>20</th>\n",
       "      <td>England lose two wickets in two balls - clips, radio &amp; text</td>\n",
       "      <td>0.000000</td>\n",
       "      <td>-0.4019</td>\n",
       "    </tr>\n",
       "    <tr>\n",
       "      <th>21</th>\n",
       "      <td>Ex-Olympian coached for years after abuse claim</td>\n",
       "      <td>-0.428571</td>\n",
       "      <td>-0.6369</td>\n",
       "    </tr>\n",
       "    <tr>\n",
       "      <th>22</th>\n",
       "      <td>Final call for all ballroom dancers!</td>\n",
       "      <td>0.000000</td>\n",
       "      <td>0.0000</td>\n",
       "    </tr>\n",
       "  </tbody>\n",
       "</table>\n",
       "</div>"
      ],
      "text/plain": [
       "                                                                     token  \\\n",
       "13                         Amazon moves Lord of the Rings production to UK   \n",
       "14                      Britney Spears' father to step down as conservator   \n",
       "15                                   Casualty's 10 most memorable episodes   \n",
       "16  Composer, DJ and bandleader: The women redefining the sound of UK jazz   \n",
       "17               Create incredible pasta dishes with only five ingredients   \n",
       "18                           Decades-old lesson found on hidden blackboard   \n",
       "19            England bat after Anderson takes five wickets in second Test   \n",
       "20             England lose two wickets in two balls - clips, radio & text   \n",
       "21                         Ex-Olympian coached for years after abuse claim   \n",
       "22                                    Final call for all ballroom dancers!   \n",
       "\n",
       "    afinn_score  vader_score  \n",
       "13     0.000000       0.1779  \n",
       "14     0.000000       0.0000  \n",
       "15    -0.200000       0.0000  \n",
       "16     0.000000       0.0000  \n",
       "17     0.000000       0.2732  \n",
       "18     0.000000       0.0000  \n",
       "19     0.000000       0.0000  \n",
       "20     0.000000      -0.4019  \n",
       "21    -0.428571      -0.6369  \n",
       "22     0.000000       0.0000  "
      ]
     },
     "execution_count": 9,
     "metadata": {},
     "output_type": "execute_result"
    }
   ],
   "source": [
    "import pandas as pd\n",
    "\n",
    "pd.set_option(\"max_row\",None)\n",
    "pd.set_option('display.max_colwidth', None)\n",
    "\n",
    "token_df = pd.DataFrame(scored_tokens)\n",
    "\n",
    "token_df[13:23]"
   ]
  },
  {
   "cell_type": "markdown",
   "metadata": {},
   "source": [
    "Both scoring models seem pretty accurate and mostly agree with each other. The few exceptions I noticed when spot-checking:\n",
    "- `Composer, DJ and bandleader...` should be a positive text, yet both models scored it as neutral. I can see why though, there weren't any particular words that suggested positivity.\n",
    "- `Totally affordable...` was missed out by VADER as being a positive word"
   ]
  },
  {
   "cell_type": "markdown",
   "metadata": {},
   "source": [
    "Let's now see all the places where the two models disagree"
   ]
  },
  {
   "cell_type": "code",
   "execution_count": 10,
   "metadata": {
    "jp-MarkdownHeadingCollapsed": true,
    "tags": []
   },
   "outputs": [
    {
     "data": {
      "text/plain": [
       "token          14\n",
       "afinn_score    14\n",
       "vader_score    14\n",
       "dtype: int64"
      ]
     },
     "execution_count": 10,
     "metadata": {},
     "output_type": "execute_result"
    }
   ],
   "source": [
    "filtered_token = token_df[(token_df[\"afinn_score\"] * token_df[\"vader_score\"] <= 0) &\n",
    "    ((token_df[\"afinn_score\"] != 0) | (token_df[\"vader_score\"] != 0))]\n",
    "\n",
    "filtered_token.count()"
   ]
  },
  {
   "cell_type": "markdown",
   "metadata": {},
   "source": [
    "So there's 14 out of 79 places where the 2 models disagree, which is roughly 25% of the time."
   ]
  },
  {
   "cell_type": "markdown",
   "metadata": {},
   "source": [
    "Let's have a look where exactly there's disagreements."
   ]
  },
  {
   "cell_type": "code",
   "execution_count": 11,
   "metadata": {},
   "outputs": [
    {
     "data": {
      "text/html": [
       "<div>\n",
       "<style scoped>\n",
       "    .dataframe tbody tr th:only-of-type {\n",
       "        vertical-align: middle;\n",
       "    }\n",
       "\n",
       "    .dataframe tbody tr th {\n",
       "        vertical-align: top;\n",
       "    }\n",
       "\n",
       "    .dataframe thead th {\n",
       "        text-align: right;\n",
       "    }\n",
       "</style>\n",
       "<table border=\"1\" class=\"dataframe\">\n",
       "  <thead>\n",
       "    <tr style=\"text-align: right;\">\n",
       "      <th></th>\n",
       "      <th>token</th>\n",
       "      <th>afinn_score</th>\n",
       "      <th>vader_score</th>\n",
       "    </tr>\n",
       "  </thead>\n",
       "  <tbody>\n",
       "    <tr>\n",
       "      <th>8</th>\n",
       "      <td>'I'm just not ready to buy an electric car'</td>\n",
       "      <td>0.000000</td>\n",
       "      <td>-0.2755</td>\n",
       "    </tr>\n",
       "    <tr>\n",
       "      <th>14</th>\n",
       "      <td>2021 BBC. The BBC is not responsible for the content of external sites.</td>\n",
       "      <td>0.153846</td>\n",
       "      <td>-0.2411</td>\n",
       "    </tr>\n",
       "    <tr>\n",
       "      <th>19</th>\n",
       "      <td>Amazon moves Lord of the Rings production to UK</td>\n",
       "      <td>0.000000</td>\n",
       "      <td>0.1779</td>\n",
       "    </tr>\n",
       "    <tr>\n",
       "      <th>22</th>\n",
       "      <td>'We never knew how dangerous Loch Lomond was'</td>\n",
       "      <td>-0.250000</td>\n",
       "      <td>0.3724</td>\n",
       "    </tr>\n",
       "    <tr>\n",
       "      <th>23</th>\n",
       "      <td>Why the Tourette's queen of Twitch hasn't been banned</td>\n",
       "      <td>-0.222222</td>\n",
       "      <td>0.3570</td>\n",
       "    </tr>\n",
       "    <tr>\n",
       "      <th>44</th>\n",
       "      <td>England lose two wickets in two balls - clips, radio &amp; text</td>\n",
       "      <td>0.000000</td>\n",
       "      <td>-0.4019</td>\n",
       "    </tr>\n",
       "    <tr>\n",
       "      <th>48</th>\n",
       "      <td>Women's Hundred: Trent Rockets struggle in must-win game against Birmingham Phoenix</td>\n",
       "      <td>0.181818</td>\n",
       "      <td>-0.3182</td>\n",
       "    </tr>\n",
       "    <tr>\n",
       "      <th>49</th>\n",
       "      <td>UK records a further 100 Covid deaths</td>\n",
       "      <td>-0.285714</td>\n",
       "      <td>0.0000</td>\n",
       "    </tr>\n",
       "    <tr>\n",
       "      <th>61</th>\n",
       "      <td>Germany fears thousands got saline, not vaccine</td>\n",
       "      <td>0.000000</td>\n",
       "      <td>-0.4215</td>\n",
       "    </tr>\n",
       "    <tr>\n",
       "      <th>63</th>\n",
       "      <td>Murder-accused boy, 14, in court after stabbing</td>\n",
       "      <td>-0.571429</td>\n",
       "      <td>0.0000</td>\n",
       "    </tr>\n",
       "    <tr>\n",
       "      <th>64</th>\n",
       "      <td>Casualty's 10 most memorable episodes</td>\n",
       "      <td>-0.200000</td>\n",
       "      <td>0.0000</td>\n",
       "    </tr>\n",
       "    <tr>\n",
       "      <th>72</th>\n",
       "      <td>Totally affordable 30-minute meals for two</td>\n",
       "      <td>0.333333</td>\n",
       "      <td>0.0000</td>\n",
       "    </tr>\n",
       "    <tr>\n",
       "      <th>73</th>\n",
       "      <td>Create incredible pasta dishes with only five ingredients</td>\n",
       "      <td>0.000000</td>\n",
       "      <td>0.2732</td>\n",
       "    </tr>\n",
       "    <tr>\n",
       "      <th>74</th>\n",
       "      <td>Flexible recipes for when you need to use up leftovers</td>\n",
       "      <td>0.000000</td>\n",
       "      <td>0.2263</td>\n",
       "    </tr>\n",
       "  </tbody>\n",
       "</table>\n",
       "</div>"
      ],
      "text/plain": [
       "                                                                                  token  \\\n",
       "8                                           'I'm just not ready to buy an electric car'   \n",
       "14             2021 BBC. The BBC is not responsible for the content of external sites.    \n",
       "19                                      Amazon moves Lord of the Rings production to UK   \n",
       "22                                        'We never knew how dangerous Loch Lomond was'   \n",
       "23                                Why the Tourette's queen of Twitch hasn't been banned   \n",
       "44                          England lose two wickets in two balls - clips, radio & text   \n",
       "48  Women's Hundred: Trent Rockets struggle in must-win game against Birmingham Phoenix   \n",
       "49                                                UK records a further 100 Covid deaths   \n",
       "61                                      Germany fears thousands got saline, not vaccine   \n",
       "63                                      Murder-accused boy, 14, in court after stabbing   \n",
       "64                                                Casualty's 10 most memorable episodes   \n",
       "72                                           Totally affordable 30-minute meals for two   \n",
       "73                            Create incredible pasta dishes with only five ingredients   \n",
       "74                               Flexible recipes for when you need to use up leftovers   \n",
       "\n",
       "    afinn_score  vader_score  \n",
       "8      0.000000      -0.2755  \n",
       "14     0.153846      -0.2411  \n",
       "19     0.000000       0.1779  \n",
       "22    -0.250000       0.3724  \n",
       "23    -0.222222       0.3570  \n",
       "44     0.000000      -0.4019  \n",
       "48     0.181818      -0.3182  \n",
       "49    -0.285714       0.0000  \n",
       "61     0.000000      -0.4215  \n",
       "63    -0.571429       0.0000  \n",
       "64    -0.200000       0.0000  \n",
       "72     0.333333       0.0000  \n",
       "73     0.000000       0.2732  \n",
       "74     0.000000       0.2263  "
      ]
     },
     "execution_count": 11,
     "metadata": {},
     "output_type": "execute_result"
    }
   ],
   "source": [
    "filtered_token"
   ]
  },
  {
   "cell_type": "markdown",
   "metadata": {},
   "source": [
    "AFINN got 6 right, while VADER got the remainder 8. There's no clear winner then. What if we now look into this using a trained, state-of-the-art model? Enter HuggingFace.\n",
    "\n",
    "We have several options on the menu: classic BERT, DistilBERT, RoBERTa and XLNet. I'm choosing DistilBERT because it's the most resource-light - this is a side project, after all."
   ]
  },
  {
   "cell_type": "code",
   "execution_count": 16,
   "metadata": {},
   "outputs": [
    {
     "data": {
      "text/html": [
       "<div>\n",
       "<style scoped>\n",
       "    .dataframe tbody tr th:only-of-type {\n",
       "        vertical-align: middle;\n",
       "    }\n",
       "\n",
       "    .dataframe tbody tr th {\n",
       "        vertical-align: top;\n",
       "    }\n",
       "\n",
       "    .dataframe thead th {\n",
       "        text-align: right;\n",
       "    }\n",
       "</style>\n",
       "<table border=\"1\" class=\"dataframe\">\n",
       "  <thead>\n",
       "    <tr style=\"text-align: right;\">\n",
       "      <th></th>\n",
       "      <th>token</th>\n",
       "      <th>afinn_score</th>\n",
       "      <th>vader_score</th>\n",
       "    </tr>\n",
       "  </thead>\n",
       "  <tbody>\n",
       "    <tr>\n",
       "      <th>33</th>\n",
       "      <td>Why you can trust the BBC</td>\n",
       "      <td>0.166667</td>\n",
       "      <td>0.5106</td>\n",
       "    </tr>\n",
       "    <tr>\n",
       "      <th>34</th>\n",
       "      <td>GB's Ujah suspended after positive test</td>\n",
       "      <td>0.166667</td>\n",
       "      <td>0.1280</td>\n",
       "    </tr>\n",
       "    <tr>\n",
       "      <th>35</th>\n",
       "      <td>'We never knew how dangerous Loch Lomond was'</td>\n",
       "      <td>-0.250000</td>\n",
       "      <td>0.3724</td>\n",
       "    </tr>\n",
       "    <tr>\n",
       "      <th>36</th>\n",
       "      <td>2021 BBC. The BBC is not responsible for the content of external sites.</td>\n",
       "      <td>0.153846</td>\n",
       "      <td>-0.2411</td>\n",
       "    </tr>\n",
       "    <tr>\n",
       "      <th>37</th>\n",
       "      <td>Woman arrested in murder probe after boy, 2, dies</td>\n",
       "      <td>-0.555556</td>\n",
       "      <td>-0.8316</td>\n",
       "    </tr>\n",
       "    <tr>\n",
       "      <th>38</th>\n",
       "      <td>Russia millionaire kills man he 'mistook for bear'</td>\n",
       "      <td>-0.375000</td>\n",
       "      <td>-0.5423</td>\n",
       "    </tr>\n",
       "    <tr>\n",
       "      <th>39</th>\n",
       "      <td>Casualty's 10 most memorable episodes</td>\n",
       "      <td>-0.200000</td>\n",
       "      <td>0.0000</td>\n",
       "    </tr>\n",
       "    <tr>\n",
       "      <th>40</th>\n",
       "      <td>PM calls emergency meeting to discuss Afghanistan</td>\n",
       "      <td>-0.285714</td>\n",
       "      <td>-0.3818</td>\n",
       "    </tr>\n",
       "    <tr>\n",
       "      <th>41</th>\n",
       "      <td>One mystery, four suspects, many lies</td>\n",
       "      <td>-0.166667</td>\n",
       "      <td>-0.6369</td>\n",
       "    </tr>\n",
       "    <tr>\n",
       "      <th>42</th>\n",
       "      <td>Composer, DJ and bandleader: The women redefining the sound of UK jazz</td>\n",
       "      <td>0.000000</td>\n",
       "      <td>0.0000</td>\n",
       "    </tr>\n",
       "  </tbody>\n",
       "</table>\n",
       "</div>"
      ],
      "text/plain": [
       "                                                                        token  \\\n",
       "33                                                  Why you can trust the BBC   \n",
       "34                                    GB's Ujah suspended after positive test   \n",
       "35                              'We never knew how dangerous Loch Lomond was'   \n",
       "36   2021 BBC. The BBC is not responsible for the content of external sites.    \n",
       "37                          Woman arrested in murder probe after boy, 2, dies   \n",
       "38                         Russia millionaire kills man he 'mistook for bear'   \n",
       "39                                      Casualty's 10 most memorable episodes   \n",
       "40                          PM calls emergency meeting to discuss Afghanistan   \n",
       "41                                      One mystery, four suspects, many lies   \n",
       "42     Composer, DJ and bandleader: The women redefining the sound of UK jazz   \n",
       "\n",
       "    afinn_score  vader_score  \n",
       "33     0.166667       0.5106  \n",
       "34     0.166667       0.1280  \n",
       "35    -0.250000       0.3724  \n",
       "36     0.153846      -0.2411  \n",
       "37    -0.555556      -0.8316  \n",
       "38    -0.375000      -0.5423  \n",
       "39    -0.200000       0.0000  \n",
       "40    -0.285714      -0.3818  \n",
       "41    -0.166667      -0.6369  \n",
       "42     0.000000       0.0000  "
      ]
     },
     "execution_count": 16,
     "metadata": {},
     "output_type": "execute_result"
    }
   ],
   "source": []
  }
 ],
 "metadata": {
  "interpreter": {
   "hash": "34e04979d73b2ceef69adabefb5e026b4557b5b2bae59a0151ac0f9ce1842be6"
  },
  "kernelspec": {
   "display_name": "Python 3 (ipykernel)",
   "language": "python",
   "name": "python3"
  },
  "language_info": {
   "codemirror_mode": {
    "name": "ipython",
    "version": 3
   },
   "file_extension": ".py",
   "mimetype": "text/x-python",
   "name": "python",
   "nbconvert_exporter": "python",
   "pygments_lexer": "ipython3",
   "version": "3.9.6"
  }
 },
 "nbformat": 4,
 "nbformat_minor": 4
}
