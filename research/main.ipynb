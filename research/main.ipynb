{
 "cells": [
  {
   "cell_type": "markdown",
   "source": [
    "Import modules from web app"
   ],
   "metadata": {}
  },
  {
   "cell_type": "code",
   "execution_count": 6,
   "source": [
    "import sys, os.path\n",
    "\n",
    "modules_dir = os.path.join(os.path.abspath(''),\"..\") + \"/main/modules\"\n",
    "sys.path.append(modules_dir)\n",
    "\n",
    "import scraping"
   ],
   "outputs": [],
   "metadata": {}
  },
  {
   "cell_type": "markdown",
   "source": [
    "Retrieve HTML text from website"
   ],
   "metadata": {}
  },
  {
   "cell_type": "code",
   "execution_count": 7,
   "source": [
    "response = scraping.request(\"bbc.co.uk\")\n",
    "print(response.status_code)\n",
    "print(response.text[0:100])"
   ],
   "outputs": [
    {
     "output_type": "stream",
     "name": "stdout",
     "text": [
      "200\n",
      "<!DOCTYPE html><html lang=\"en-GB\" class=\"no-js\"><head><meta charSet=\"utf-8\" /><meta name=\"viewport\" \n"
     ]
    }
   ],
   "metadata": {}
  },
  {
   "cell_type": "markdown",
   "source": [
    "Process the HTML text into tokens"
   ],
   "metadata": {}
  },
  {
   "cell_type": "code",
   "execution_count": 8,
   "source": [
    "tokens = scraping.process(response.text)\n",
    "print(len(tokens))\n",
    "print(tokens[0:10])"
   ],
   "outputs": [
    {
     "output_type": "stream",
     "name": "stdout",
     "text": [
      "78\n",
      "['Superstar violinist Nicola Benedetti delights the Proms', 'Three of the strangest organs in the animal kingdom', \"'Naive' to set Covid restrictions end date - Mallon\", \"Robin's sexuality 'missing piece' of Batman story\", \"'We drove from Ireland to Australia in a camper van'\", 'Kutcher and Kunis spark bathing debate', \"'One signing could decide the title race, but it's not Harry Kane'\", \"Haye returns to fight 'overconfident billionaire buddy'\", 'The ghosts are back for more supernatural shenanigans. IPlayer-Video', 'What are the fan tokens given to Messi by PSG?']\n"
     ]
    }
   ],
   "metadata": {}
  },
  {
   "cell_type": "markdown",
   "source": [
    "Score each of the tokens using...\n",
    "- [AFINN](https://github.com/fnielsen/afinn) = wordlist-based approach\n",
    "- [VADER] "
   ],
   "metadata": {}
  },
  {
   "cell_type": "code",
   "execution_count": 9,
   "source": [
    "from afinn import Afinn\n",
    "from vaderSentiment.vaderSentiment import SentimentIntensityAnalyzer\n",
    "\n",
    "afinn = Afinn()\n",
    "vader = SentimentIntensityAnalyzer()\n",
    "scored_tokens = []\n",
    "\n",
    "for token in tokens:\n",
    "  # afinn.score calculates by adding up individual scores for words\n",
    "  # so you need to standardise by dividing the length of the phrase\n",
    "  afinn_score = afinn.score(token) / len(token.split())\n",
    "\n",
    "  vader_score = vader.polarity_scores(token)[\"compound\"]\n",
    "  \n",
    "  scored_tokens.append({\"token\": token, \"afinn_score\": afinn_score, \"vader_score\": vader_score})\n",
    "\n",
    "print(len(scored_tokens), scored_tokens[0:10])"
   ],
   "outputs": [
    {
     "output_type": "stream",
     "name": "stdout",
     "text": [
      "78 [{'token': 'Superstar violinist Nicola Benedetti delights the Proms', 'afinn_score': 0.42857142857142855, 'vader_score': 0.4588}, {'token': 'Three of the strangest organs in the animal kingdom', 'afinn_score': 0.0, 'vader_score': 0.0}, {'token': \"'Naive' to set Covid restrictions end date - Mallon\", 'afinn_score': -0.2222222222222222, 'vader_score': -0.2732}, {'token': \"Robin's sexuality 'missing piece' of Batman story\", 'afinn_score': -0.2857142857142857, 'vader_score': -0.296}, {'token': \"'We drove from Ireland to Australia in a camper van'\", 'afinn_score': 0.0, 'vader_score': 0.0}, {'token': 'Kutcher and Kunis spark bathing debate', 'afinn_score': 0.16666666666666666, 'vader_score': 0.2263}, {'token': \"'One signing could decide the title race, but it's not Harry Kane'\", 'afinn_score': 0.0, 'vader_score': 0.0}, {'token': \"Haye returns to fight 'overconfident billionaire buddy'\", 'afinn_score': -0.14285714285714285, 'vader_score': -0.3818}, {'token': 'The ghosts are back for more supernatural shenanigans. IPlayer-Video', 'afinn_score': 0.0, 'vader_score': 0.0}, {'token': 'What are the fan tokens given to Messi by PSG?', 'afinn_score': 0.3, 'vader_score': 0.3182}]\n"
     ]
    }
   ],
   "metadata": {}
  },
  {
   "cell_type": "markdown",
   "source": [
    "Analyze data with `pandas`"
   ],
   "metadata": {}
  },
  {
   "cell_type": "code",
   "execution_count": 19,
   "source": [
    "import pandas as pd\n",
    "\n",
    "token_df = pd.DataFrame(scored_tokens)\n",
    "\n",
    "print(token_df.describe())"
   ],
   "outputs": [
    {
     "output_type": "stream",
     "name": "stdout",
     "text": [
      "       afinn_score  vader_score\n",
      "count    78.000000    78.000000\n",
      "mean     -0.010354    -0.030365\n",
      "std       0.261022     0.373667\n",
      "min      -0.714286    -0.831600\n",
      "25%      -0.142857    -0.274925\n",
      "50%       0.000000     0.000000\n",
      "75%       0.000000     0.214200\n",
      "max       0.750000     0.778300\n"
     ]
    }
   ],
   "metadata": {}
  }
 ],
 "metadata": {
  "orig_nbformat": 4,
  "language_info": {
   "name": "python",
   "version": "3.9.6",
   "mimetype": "text/x-python",
   "codemirror_mode": {
    "name": "ipython",
    "version": 3
   },
   "pygments_lexer": "ipython3",
   "nbconvert_exporter": "python",
   "file_extension": ".py"
  },
  "kernelspec": {
   "name": "python3",
   "display_name": "Python 3.9.6 64-bit ('bright-news': conda)"
  },
  "interpreter": {
   "hash": "34e04979d73b2ceef69adabefb5e026b4557b5b2bae59a0151ac0f9ce1842be6"
  }
 },
 "nbformat": 4,
 "nbformat_minor": 2
}